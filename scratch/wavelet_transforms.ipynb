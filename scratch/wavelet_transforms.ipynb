{
 "cells": [
  {
   "cell_type": "code",
   "execution_count": null,
   "metadata": {},
   "outputs": [],
   "source": [
    "import numpy as np\n",
    "import matplotlib.pyplot as plt\n",
    "import pywt\n",
    "from scipy.ndimage import shift\n",
    "import tifffile as tf\n"
   ]
  },
  {
   "cell_type": "code",
   "execution_count": null,
   "metadata": {},
   "outputs": [],
   "source": [
    "# Generate test images\n",
    "image1 = pywt.data.camera()\n",
    "image1 = tf.imread(r\"C:\\Users\\Dadie1\\Downloads\\drive-download-20230504T015844Z-001\\Ruby_scells280423\\Rubyscellspiescope280423\\screenshot_1.tiff\").astype(np.float32)\n",
    "image1 = image1[:, :, 0]\n",
    "print(image1.shape)\n",
    "# image1 = np.zeros((512, 512))\n",
    "# image1[200:300, 200:300] = 1\n",
    "\n",
    "image2 = tf.imread(r\"C:\\Users\\Dadie1\\Downloads\\drive-download-20230504T015844Z-001\\Ruby_scells280423\\Rubyscellsfib280423\\pairsbeforeeb_002.tif\")\n",
    "image2 = image2[:, :, 0]\n",
    "print(image2.shape)# image2 = shift(image1, (100, 200))\n",
    "\n",
    "# plot both on same figure\n",
    "fig, ax = plt.subplots(1, 2, figsize=(10, 5))\n",
    "ax[0].imshow(image1, cmap='gray')\n",
    "ax[1].imshow(image2, cmap='gray')\n",
    "plt.show()"
   ]
  },
  {
   "cell_type": "code",
   "execution_count": null,
   "metadata": {},
   "outputs": [],
   "source": [
    "# Perform wavelet decomposition\n",
    "wavelet = 'db4'\n",
    "level = 3\n",
    "coeffs1 = pywt.wavedec2(image1, wavelet, level=level)\n",
    "coeffs2 = pywt.wavedec2(image2, wavelet, level=level)\n",
    "\n",
    "# Plot the original image 1 and coeffs1[0]\n",
    "fig, ax = plt.subplots(1, 2, figsize=(10, 5))\n",
    "ax[0].imshow(image1, cmap='gray')\n",
    "ax[1].imshow(coeffs1[0], cmap='gray')\n",
    "plt.show()\n",
    "\n",
    "# Plot wavelet coefficients\n",
    "fig, ax = plt.subplots(3, 3, figsize=(30, 20))\n",
    "ax[0, 0].imshow(coeffs1[1][0], cmap='turbo')\n",
    "ax[0, 1].imshow(coeffs1[1][1], cmap='turbo')\n",
    "ax[0, 2].imshow(coeffs1[1][2], cmap='turbo')\n",
    "ax[1, 0].imshow(coeffs1[2][0], cmap='turbo')\n",
    "ax[1, 1].imshow(coeffs1[2][1], cmap='turbo')\n",
    "ax[1, 2].imshow(coeffs1[2][2], cmap='turbo')\n",
    "ax[2, 0].imshow(coeffs1[3][0], cmap='turbo')\n",
    "ax[2, 1].imshow(coeffs1[3][1], cmap='turbo')\n",
    "ax[2, 2].imshow(coeffs1[3][2], cmap='turbo')\n",
    "plt.show()\n",
    "    \n",
    "\n",
    "# do the same thing for image 2\n",
    "fig, ax = plt.subplots(1, 2, figsize=(10, 5))\n",
    "ax[0].imshow(image2, cmap='gray')\n",
    "ax[1].imshow(coeffs2[0], cmap='gray')\n",
    "plt.show()\n",
    "\n",
    "# Plot wavelet coefficients\n",
    "fig, ax = plt.subplots(3, 3, figsize=(30, 20))\n",
    "ax[0, 0].imshow(coeffs2[1][0], cmap='turbo')\n",
    "ax[0, 1].imshow(coeffs2[1][1], cmap='turbo')\n",
    "ax[0, 2].imshow(coeffs2[1][2], cmap='turbo')\n",
    "ax[1, 0].imshow(coeffs2[2][0], cmap='turbo')\n",
    "ax[1, 1].imshow(coeffs2[2][1], cmap='turbo')\n",
    "ax[1, 2].imshow(coeffs2[2][2], cmap='turbo')\n",
    "ax[2, 0].imshow(coeffs2[3][0], cmap='turbo')\n",
    "ax[2, 1].imshow(coeffs2[3][1], cmap='turbo')\n",
    "ax[2, 2].imshow(coeffs2[3][2], cmap='turbo')\n",
    "plt.show()\n",
    "\n",
    "# save coeffs2[1][2]\n",
    "tf.imwrite(r\"C:\\Users\\Dadie1\\Downloads\\pairsbeforeeb_002_wavelet.tiff\", coeffs2[1][2])\n",
    "\n",
    " "
   ]
  },
  {
   "cell_type": "code",
   "execution_count": null,
   "metadata": {},
   "outputs": [],
   "source": []
  },
  {
   "cell_type": "code",
   "execution_count": null,
   "metadata": {},
   "outputs": [],
   "source": []
  },
  {
   "cell_type": "code",
   "execution_count": null,
   "metadata": {},
   "outputs": [],
   "source": [
    ")shifts = []\n",
    "for i in range(level+1)[1:]:\n",
    "    c1 = coeffs1[i][0]\n",
    "    c2 = coeffs2[i][0]\n",
    "\n",
    "    c3 = coeffs1[i][1]\n",
    "    c4 = coeffs2[i][1]\n",
    "\n",
    "    c5 = coeffs1[i][2]\n",
    "    c6 = coeffs2[i][2]\n",
    "    \n",
    "    corr_1 = np.fft.ifftshift(np.abs(np.fft.ifft2(np.conj(np.fft.fft2(c1))*np.fft.fft2(c2))))\n",
    "    corr_2 = np.fft.ifftshift(np.abs(np.fft.ifft2(np.conj(np.fft.fft2(c3))*np.fft.fft2(c4))))\n",
    "    corr_3 = np.fft.ifftshift(np.abs(np.fft.ifft2(np.conj(np.fft.fft2(c5))*np.fft.fft2(c6))))\n",
    "    corr = np.sqrt(corr_1**2 + corr_2**2 + corr_3**2)\n",
    "    max_corr_idx = np.unravel_index(np.argmax(corr), corr.shape)\n",
    "    shifts.append((-(max_corr_idx[0] - c1.shape[0]//2), -(max_corr_idx[1] - c1.shape[1]//2)))\n",
    "    # plt.imshow(corr)\n",
    "    # plt.show()\n",
    "    # print(corr)\n",
    "\n",
    "print(shifts)\n",
    "\n",
    "# # shift 0, 0\n",
    "# coeff11 = shift(coeffs1[1][0], shifts[0])\n",
    "\n",
    "\n",
    "\n",
    "# shift the coefficients\n",
    "coeffs2_aligned = [shift(coeffs2[i+1][j], shifts[i]) for i in range(3) for j in range(3)]\n",
    "coeffs2_aligned.insert(0, shift(coeffs2[0], shifts[0]))\n",
    "\n",
    "coeffs2_reshaped = [coeffs2_aligned[0], (coeffs2_aligned[1:4]), (coeffs2_aligned[4:7]), (coeffs2_aligned[7:10])]\n",
    "# plt.imshow(coeffs2[0])\n",
    "# plt.show()\n",
    "# plt.imshow(coeffs2_reshaped[0])\n",
    "\n",
    "\n",
    "print(len(coeffs2_reshaped[0]))\n",
    "print(len(coeffs2_reshaped[1]))\n",
    "print(len(coeffs2_reshaped[2]))\n",
    "print(len(coeffs2_reshaped[3]))\n",
    "\n",
    "\n",
    "# # Reconstruct aligned image\n",
    "image2_aligned = pywt.waverec2(coeffs2_reshaped, wavelet)\n"
   ]
  },
  {
   "cell_type": "code",
   "execution_count": null,
   "metadata": {},
   "outputs": [],
   "source": [
    "# Plot original and aligned images\n",
    "fig, ax = plt.subplots(1, 2)\n",
    "ax[0].imshow(image1, cmap='gray')\n",
    "ax[0].set_title('Image 1')\n",
    "ax[1].imshow(image2, cmap='gray')\n",
    "ax[1].set_title('Aligned Image 2')\n",
    "plt.show()"
   ]
  },
  {
   "cell_type": "code",
   "execution_count": null,
   "metadata": {},
   "outputs": [],
   "source": [
    "# Plot original and aligned images\n",
    "fig, ax = plt.subplots(1, 3)\n",
    "ax[0].imshow(image1, cmap='gray')\n",
    "ax[0].set_title('Image 1')\n",
    "ax[1].imshow(image2, cmap='gray')\n",
    "ax[1].set_title('Unaligned Image 2')\n",
    "ax[2].imshow(image2_aligned, cmap='gray')\n",
    "ax[2].set_title('Aligned Image 2')\n",
    "plt.show()"
   ]
  },
  {
   "cell_type": "code",
   "execution_count": null,
   "metadata": {},
   "outputs": [],
   "source": [
    "plt.imshow(image2_aligned, cmap='gray')a"
   ]
  },
  {
   "cell_type": "code",
   "execution_count": null,
   "metadata": {},
   "outputs": [],
   "source": [
    "for d in ds:\n",
    "    print(isinstance(d, list))\n",
    "    print(len(d))"
   ]
  },
  {
   "cell_type": "code",
   "execution_count": null,
   "metadata": {},
   "outputs": [],
   "source": []
  }
 ],
 "metadata": {
  "kernelspec": {
   "display_name": "piescope",
   "language": "python",
   "name": "python3"
  },
  "language_info": {
   "codemirror_mode": {
    "name": "ipython",
    "version": 3
   },
   "file_extension": ".py",
   "mimetype": "text/x-python",
   "name": "python",
   "nbconvert_exporter": "python",
   "pygments_lexer": "ipython3",
   "version": "3.9.16"
  },
  "orig_nbformat": 4
 },
 "nbformat": 4,
 "nbformat_minor": 2
}
