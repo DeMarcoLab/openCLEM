{
 "cells": [
  {
   "cell_type": "code",
   "execution_count": null,
   "metadata": {},
   "outputs": [],
   "source": [
    "from pprint import pprint\n",
    "import numpy as np\n",
    "import itertools\n"
   ]
  },
  {
   "cell_type": "code",
   "execution_count": null,
   "metadata": {},
   "outputs": [],
   "source": [
    "def tiling(n_rows=1, n_cols=1, dx=0, dy=0):\n",
    "    \"\"\"Generator for tile indices\n",
    "\n",
    "    Parameters\n",
    "    ----------\n",
    "    n_rows : int, optional\n",
    "        Number of rows, by default 1\n",
    "    n_cols : int, optional\n",
    "        Number of columns, by default 1\n",
    "\n",
    "    Returns\n",
    "    -------\n",
    "    list\n",
    "        List of tuples of tile positions\n",
    "    \"\"\"\n",
    "    \n",
    "    # moves = [{\"type\": \"move_stage\", \"dx\": j*dx, \"dy\": i*dy} for i in range(n_rows) for j in range(n_cols)]\n",
    "    moves = [[j*dx, i*dy] for i in range(n_rows) for j in range(n_cols)]\n",
    "\n",
    "    return moves\n",
    "\n",
    "def update_stage_moves(move_list, initial_position=(0, 0, 0)):\n",
    "    for move in move_list:\n",
    "        move[0] += initial_position[0]\n",
    "        move[1] += initial_position[1]\n",
    "    return move_list\n",
    "\n",
    "def volume(n_slices, step_size):\n",
    "    if n_slices % 2 == 0:\n",
    "        n_slices += 1\n",
    "        print(\"Must be odd atm, adding 1\")\n",
    "\n",
    "    list_ = list(np.linspace(-(n_slices-1)//2, n_slices//2, n_slices)*step_size)\n",
    "    return list_[::-1]\n",
    "\n",
    "def update_objective_moves(move_list, initial_position_obj=0):\n",
    "    # add initial_position[2] to each value in the list: move_list\n",
    "    for i, move in enumerate(move_list):\n",
    "        move_list[i] += initial_position_obj    \n",
    "    return move_list\n",
    "\n",
    "def workflow_generator(initial_position, tile_list: list[float] = None, volume_list: list[float]=None):\n",
    "    if tile_list is None and volume_list is None:\n",
    "        raise ValueError(\"Must provide either tile_list or volume_list\")\n",
    "    moves = [[tile_move[0], tile_move[1], volume_move] for tile_move in tile_list for volume_move in volume_list]\n",
    "    moves.append(initial_position)\n",
    "    # moves = list(itertools.chain.from_iterable([move, [\"image\"]] for move in moves))\n",
    "    return moves\n"
   ]
  },
  {
   "cell_type": "code",
   "execution_count": null,
   "metadata": {},
   "outputs": [],
   "source": [
    "tile_moves = tiling(2, 2, 1, 1)\n",
    "pprint(tile_moves)\n",
    "volume_moves = volume(3, 1)\n",
    "pprint(volume_moves)\n"
   ]
  },
  {
   "cell_type": "code",
   "execution_count": null,
   "metadata": {},
   "outputs": [],
   "source": [
    "initial_position = [0, 0, 0]"
   ]
  },
  {
   "cell_type": "code",
   "execution_count": null,
   "metadata": {},
   "outputs": [],
   "source": [
    "updated_tile_moves = update_stage_moves(tile_moves, initial_position)\n",
    "pprint(updated_tile_moves)\n",
    "updated_volume_moves = update_objective_moves(volume_moves, initial_position_obj=initial_position[2])\n",
    "pprint(updated_volume_moves)"
   ]
  },
  {
   "cell_type": "code",
   "execution_count": null,
   "metadata": {},
   "outputs": [],
   "source": [
    "move_list = workflow_generator(initial_position, tile_list=updated_tile_moves, volume_list=updated_volume_moves)\n",
    "pprint(move_list)\n"
   ]
  },
  {
   "cell_type": "code",
   "execution_count": null,
   "metadata": {},
   "outputs": [],
   "source": [
    "# check the difference in each element of the list compared to the previous element\n",
    "# if the difference is 0, then the stage is not moving\n",
    "from copy import deepcopy\n",
    "\n",
    "\n",
    "\n",
    "current_position = initial_position\n",
    "\n",
    "relative_moves = []\n",
    "images_taken = []\n",
    "\n",
    "for move in updated_tile_moves[1:]:\n",
    "    for v_move in updated_volume_moves:\n",
    "        # print(f\"Objective moves to: {v_move}\")\n",
    "        # print(f\"Objective moves by {v_move - current_position[2]}\")\n",
    "        relative_moves.append({\"type\": \"move_objective\", \"dz\": v_move - current_position[2]})\n",
    "        current_position[2] = v_move\n",
    "        # print(f\"Current position: {current_position}\")\n",
    "        print(f\"Image taken at: {current_position}\")\n",
    "        relative_moves.append({\"type\": \"image\", \"sync\": None, \"settings\": None})\n",
    "        images_taken.append(deepcopy(current_position))\n",
    "    # print(f\"Stage moves to: {move[0], move[1]}\")\n",
    "    # print(f\"Stage moves by {move[0] - current_position[0], move[1] - current_position[1]}\")\n",
    "    relative_moves.append({\"type\": \"move_stage\", \"dx\": move[0] - current_position[0], \"dy\": move[1] - current_position[1]})\n",
    "    current_position[0] = move[0]\n",
    "    current_position[1] = move[1]\n",
    "    # print(f\"Current position: {current_position}\")\n",
    "\n",
    "for v_move in updated_volume_moves:\n",
    "        # print(f\"Objective moves to: {v_move}\")\n",
    "        # print(f\"Objective moves by {v_move - current_position[2]}\")\n",
    "        relative_moves.append({\"type\": \"move_objective\", \"dz\": v_move - current_position[2]})\n",
    "        current_position[2] = v_move\n",
    "        # print(f\"Current position: {current_position}\")\n",
    "        print(f\"Image taken at: {current_position}\")\n",
    "        relative_moves.append({\"type\": \"image\", \"sync\": None, \"settings\": None})\n",
    "        images_taken.append(deepcopy(current_position))\n",
    "\n"
   ]
  },
  {
   "cell_type": "code",
   "execution_count": null,
   "metadata": {},
   "outputs": [],
   "source": [
    "pprint(relative_moves)"
   ]
  },
  {
   "cell_type": "code",
   "execution_count": null,
   "metadata": {},
   "outputs": [],
   "source": [
    "pprint(images_taken)"
   ]
  },
  {
   "cell_type": "code",
   "execution_count": null,
   "metadata": {},
   "outputs": [],
   "source": []
  }
 ],
 "metadata": {
  "kernelspec": {
   "display_name": "wavelets",
   "language": "python",
   "name": "python3"
  },
  "language_info": {
   "codemirror_mode": {
    "name": "ipython",
    "version": 3
   },
   "file_extension": ".py",
   "mimetype": "text/x-python",
   "name": "python",
   "nbconvert_exporter": "python",
   "pygments_lexer": "ipython3",
   "version": "3.9.16"
  },
  "orig_nbformat": 4
 },
 "nbformat": 4,
 "nbformat_minor": 2
}
