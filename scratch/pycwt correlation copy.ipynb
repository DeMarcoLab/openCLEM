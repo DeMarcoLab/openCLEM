{
 "cells": [
  {
   "cell_type": "code",
   "execution_count": null,
   "metadata": {},
   "outputs": [],
   "source": [
    "%load_ext autoreload\n",
    "%autoreload 2\n",
    "from openlm.tools import continuous_wavelet_transforms\n",
    "import tifffile as tf\n",
    "import numpy as np\n",
    "import matplotlib.pyplot as plt\n",
    "from scipy import ndimage"
   ]
  },
  {
   "attachments": {},
   "cell_type": "markdown",
   "metadata": {},
   "source": [
    "### Load Image 1"
   ]
  },
  {
   "cell_type": "code",
   "execution_count": null,
   "metadata": {},
   "outputs": [],
   "source": [
    "image_1 = tf.imread(r'C:\\Users\\User\\Github\\openCLEM\\scratch\\stitched.tif')\n",
    "image_1 = image_1[300:1300, 400:1400]\n",
    "plt.figure(dpi=200, figsize=(5,5))\n",
    "plt.imshow(image_1, cmap='turbo')\n",
    "plt.show()\n",
    "print(image_1.shape)"
   ]
  },
  {
   "attachments": {},
   "cell_type": "markdown",
   "metadata": {},
   "source": [
    "### Load Image 2"
   ]
  },
  {
   "cell_type": "code",
   "execution_count": null,
   "metadata": {},
   "outputs": [],
   "source": [
    "image = tf.imread(r\"C:\\Users\\User\\Downloads\\eb_1_5.tif\").astype(np.float32)\n",
    "image = image[:, :, 0]\n",
    "print(image.shape)\n",
    "plt.figure(dpi=200, figsize=(5, 5))\n",
    "plt.imshow(image, cmap='gray')\n",
    "pixel_size = 800.e-6/image.shape[1]\n",
    "print(image.shape[1])\n",
    "print(pixel_size)"
   ]
  },
  {
   "cell_type": "code",
   "execution_count": null,
   "metadata": {},
   "outputs": [],
   "source": [
    "# image = ndimage.median_filter(image, 3)\n",
    "image = image[-1000:, 200:1200]\n",
    "print(image.shape)\n",
    "image = continuous_wavelet_transforms.normalise_image(image)\n",
    "plt.figure(dpi=200, figsize=(5, 5))\n",
    "plt.imshow(image, cmap='gray')"
   ]
  },
  {
   "cell_type": "code",
   "execution_count": null,
   "metadata": {},
   "outputs": [],
   "source": [
    "tf.imwrite(r'C:\\Users\\User\\Github\\openCLEM\\scratch\\lm_1000.tif', image_1)"
   ]
  },
  {
   "cell_type": "code",
   "execution_count": null,
   "metadata": {},
   "outputs": [],
   "source": [
    "# save\n",
    "# pad image to 2500x2500\n",
    "# image = np.pad(image, (((2500-image.shape[0])//2, (2500-image.shape[0])//2), ((2500-image.shape[1])//2, (2500-image.shape[1])//2)), mode='constant', constant_values=0)\n",
    "print(image.shape)\n",
    "plt.imshow(image)\n",
    "plt.show()\n",
    "tf.imwrite(r'C:\\Users\\User\\Github\\openCLEM\\scratch\\EB_1000.tif', image)"
   ]
  },
  {
   "attachments": {},
   "cell_type": "markdown",
   "metadata": {},
   "source": [
    "### Performing wavelet"
   ]
  },
  {
   "cell_type": "code",
   "execution_count": null,
   "metadata": {},
   "outputs": [],
   "source": [
    "pixel_size = 1\n",
    "feature_size = 24\n",
    "buffer = 24\n",
    "n_scales = 25"
   ]
  },
  {
   "cell_type": "code",
   "execution_count": null,
   "metadata": {},
   "outputs": [],
   "source": [
    "coeffs, wav_norm, scales = continuous_wavelet_transforms.wavelet_transform(image, 'morlet', pixel_size, feature_size, buffer, n_scales)"
   ]
  },
  {
   "cell_type": "code",
   "execution_count": null,
   "metadata": {},
   "outputs": [],
   "source": [
    "continuous_wavelet_transforms.plot_continuous_wavelet_transform(coeffs, scales)"
   ]
  },
  {
   "cell_type": "code",
   "execution_count": null,
   "metadata": {},
   "outputs": [],
   "source": [
    "coeffs, wav_norm, scales = continuous_wavelet_transforms.wavelet_transform(image, 'dog', pixel_size, feature_size, buffer, n_scales)"
   ]
  },
  {
   "cell_type": "code",
   "execution_count": null,
   "metadata": {},
   "outputs": [],
   "source": [
    "continuous_wavelet_transforms.plot_continuous_wavelet_transform(coeffs, scales)"
   ]
  },
  {
   "cell_type": "code",
   "execution_count": null,
   "metadata": {},
   "outputs": [],
   "source": [
    "first_scale = np.abs(coeffs[:, :, 0])\n"
   ]
  },
  {
   "cell_type": "code",
   "execution_count": null,
   "metadata": {},
   "outputs": [],
   "source": [
    "# make sure first_scale and image_1 are the same shape\n",
    "\n",
    "shape_1 = image_1.shape\n",
    "shape_2 = first_scale.shape\n",
    "\n",
    "if shape_1 != shape_2:\n",
    "    shape = (min(shape_1[0], shape_2[0]), min(shape_1[1], shape_2[1]))\n",
    "    image_1 = image_1[:shape[0], :shape[1]]\n",
    "    first_scale = first_scale[:shape[0], :shape[1]]\n",
    "\n",
    "    \n"
   ]
  },
  {
   "cell_type": "code",
   "execution_count": null,
   "metadata": {},
   "outputs": [],
   "source": [
    "print(image_1.shape)\n",
    "print(first_scale.shape)"
   ]
  },
  {
   "cell_type": "code",
   "execution_count": null,
   "metadata": {},
   "outputs": [],
   "source": [
    "import numpy as np\n",
    "def crosscorrelation_v2(\n",
    "    img1: np.ndarray, img2: np.ndarray, bandpass: np.ndarray = None\n",
    ") -> np.ndarray:\n",
    "    \"\"\"\n",
    "    Cross-correlate two images using Fourier convolution matching.\n",
    "\n",
    "    Args:\n",
    "        img1 (np.ndarray): The reference image.\n",
    "        img2 (np.ndarray): The new image to be cross-correlated with the reference.\n",
    "        bandpass (np.ndarray, optional): A bandpass mask to apply to both images before cross-correlation. Defaults to None.\n",
    "\n",
    "    Returns:\n",
    "        np.ndarray: The cross-correlation map between the two images.\n",
    "    \"\"\"\n",
    "    if img1.shape != img2.shape:\n",
    "        err = (\n",
    "            f\"Image 1 {img1.shape} and Image 2 {img2.shape} need to have the same shape\"\n",
    "        )\n",
    "        raise ValueError(err)\n",
    "\n",
    "    if bandpass is None:\n",
    "        bandpass = np.ones_like(img1)\n",
    "\n",
    "    n_pixels = img1.shape[0] * img1.shape[1]\n",
    "\n",
    "    img1ft = np.fft.ifftshift(bandpass * np.fft.fftshift(np.fft.fft2(img1)))\n",
    "    tmp = img1ft * np.conj(img1ft)\n",
    "    img1ft = n_pixels * img1ft / np.sqrt(tmp.sum())\n",
    "\n",
    "    img2ft = np.fft.ifftshift(bandpass * np.fft.fftshift(np.fft.fft2(img2)))\n",
    "    img2ft[0, 0] = 0\n",
    "    tmp = img2ft * np.conj(img2ft)\n",
    "\n",
    "    img2ft = n_pixels * img2ft / np.sqrt(tmp.sum())\n",
    "\n",
    "    # import matplotlib.pyplot as plt\n",
    "    # fig, ax = plt.subplots(1, 2, figsize=(15, 15))\n",
    "    # ax[0].imshow(np.fft.ifft2(img1ft).real)\n",
    "    # ax[1].imshow(np.fft.ifft2(img2ft).real)\n",
    "    # plt.show()\n",
    "\n",
    "    # plt.title(\"Power Spectra\")\n",
    "    # plt.imshow(np.log(np.abs(np.fft.fftshift(np.fft.fft2(img1)))))\n",
    "    # plt.show()\n",
    "\n",
    "    xcorr = np.real(np.fft.fftshift(np.fft.ifft2(img1ft * np.conj(img2ft))))\n",
    "\n",
    "    return xcorr\n"
   ]
  },
  {
   "cell_type": "code",
   "execution_count": null,
   "metadata": {},
   "outputs": [],
   "source": [
    "result = crosscorrelation_v2(image_1, first_scale)\n"
   ]
  },
  {
   "cell_type": "code",
   "execution_count": null,
   "metadata": {},
   "outputs": [],
   "source": [
    "plt.imshow(result, cmap='gray')"
   ]
  },
  {
   "cell_type": "code",
   "execution_count": null,
   "metadata": {},
   "outputs": [],
   "source": [
    "plt.imshow(image_1)"
   ]
  },
  {
   "cell_type": "code",
   "execution_count": null,
   "metadata": {},
   "outputs": [],
   "source": [
    "plt.imshow(first_scale)"
   ]
  },
  {
   "cell_type": "markdown",
   "metadata": {},
   "source": [
    "### EB ATTEMPT "
   ]
  },
  {
   "cell_type": "code",
   "execution_count": null,
   "metadata": {},
   "outputs": [],
   "source": [
    "image = tf.imread(r\"C:\\Users\\User\\Documents\\15-06-23 - Cells\\eb_1_5.tif\").astype(np.float32)\n",
    "image = ndimage.median_filter(image, 3)\n",
    "image = image[:, :, 0]\n",
    "image = image[:1000, :1000]\n",
    "image = continuous_wavelet_transforms.normalise_image(image)\n",
    "plt.imshow(image, cmap='gray')"
   ]
  },
  {
   "cell_type": "code",
   "execution_count": null,
   "metadata": {},
   "outputs": [],
   "source": [
    "coeffs, wav_norm, scales = continuous_wavelet_transforms.wavelet_transform(image, 'mexh', pixel_size, feature_size, buffer, n_scales)"
   ]
  },
  {
   "cell_type": "code",
   "execution_count": null,
   "metadata": {},
   "outputs": [],
   "source": [
    "continuous_wavelet_transforms.plot_continuous_wavelet_transform(coeffs, scales)"
   ]
  },
  {
   "attachments": {},
   "cell_type": "markdown",
   "metadata": {},
   "source": [
    "### LM ATTEMPT"
   ]
  },
  {
   "cell_type": "code",
   "execution_count": null,
   "metadata": {},
   "outputs": [],
   "source": [
    "plt.figure(dpi=200, figsize=(5,5))\n",
    "plt.imshow(image_1, cmap='turbo')\n",
    "plt.show()"
   ]
  },
  {
   "cell_type": "code",
   "execution_count": null,
   "metadata": {},
   "outputs": [],
   "source": [
    "image_1_cont = continuous_wavelet_transforms.normalise_image(image_1)\n",
    "image_1_cont = image_1_cont[200:2200, 200:2200]\n",
    "print(image_1_cont.shape)\n",
    "plt.imshow(image_1_cont)\n",
    "# save image_1_cont\n",
    "tf.imwrite(r'C:\\Users\\User\\Github\\openCLEM\\scratch\\image_1_cont.tif', image_1_cont)\n"
   ]
  },
  {
   "cell_type": "code",
   "execution_count": null,
   "metadata": {},
   "outputs": [],
   "source": [
    "coeffs, wav_norm, scales = continuous_wavelet_transforms.wavelet_transform(image_1_cont, 'gaus', pixel_size, feature_size, buffer, n_scales)"
   ]
  },
  {
   "cell_type": "code",
   "execution_count": null,
   "metadata": {},
   "outputs": [],
   "source": [
    "continuous_wavelet_transforms.plot_continuous_wavelet_transform(coeffs, scales)"
   ]
  },
  {
   "cell_type": "code",
   "execution_count": null,
   "metadata": {},
   "outputs": [],
   "source": [
    "coeffs, wav_norm, scales = continuous_wavelet_transforms.wavelet_transform(image_1_cont, 'mexh', pixel_size, feature_size, buffer, n_scales)"
   ]
  },
  {
   "cell_type": "code",
   "execution_count": null,
   "metadata": {},
   "outputs": [],
   "source": [
    "continuous_wavelet_transforms.plot_continuous_wavelet_transform(coeffs, scales)"
   ]
  },
  {
   "cell_type": "code",
   "execution_count": null,
   "metadata": {},
   "outputs": [],
   "source": [
    "coeffs, wav_norm, scales = continuous_wavelet_transforms.wavelet_transform(image_1_cont, 'morlet', pixel_size, feature_size, buffer, n_scales)"
   ]
  },
  {
   "cell_type": "code",
   "execution_count": null,
   "metadata": {},
   "outputs": [],
   "source": [
    "continuous_wavelet_transforms.plot_continuous_wavelet_transform(coeffs, scales)"
   ]
  },
  {
   "cell_type": "code",
   "execution_count": null,
   "metadata": {},
   "outputs": [],
   "source": []
  },
  {
   "cell_type": "code",
   "execution_count": null,
   "metadata": {},
   "outputs": [],
   "source": [
    "from fibsem.imaging import masks"
   ]
  },
  {
   "cell_type": "code",
   "execution_count": null,
   "metadata": {},
   "outputs": [],
   "source": [
    "bandpass = masks.create_bandpass_mask(\n",
    "    shape=[1024, 1024], lp=[220], hp=[52], sigma=3\n",
    ")"
   ]
  },
  {
   "cell_type": "code",
   "execution_count": null,
   "metadata": {},
   "outputs": [],
   "source": [
    "plt.imshow(bandpass)"
   ]
  },
  {
   "cell_type": "code",
   "execution_count": null,
   "metadata": {},
   "outputs": [],
   "source": []
  },
  {
   "cell_type": "code",
   "execution_count": null,
   "metadata": {},
   "outputs": [],
   "source": []
  },
  {
   "cell_type": "code",
   "execution_count": null,
   "metadata": {},
   "outputs": [],
   "source": []
  }
 ],
 "metadata": {
  "kernelspec": {
   "display_name": "openclem",
   "language": "python",
   "name": "python3"
  },
  "language_info": {
   "codemirror_mode": {
    "name": "ipython",
    "version": 3
   },
   "file_extension": ".py",
   "mimetype": "text/x-python",
   "name": "python",
   "nbconvert_exporter": "python",
   "pygments_lexer": "ipython3",
   "version": "3.9.16"
  },
  "orig_nbformat": 4
 },
 "nbformat": 4,
 "nbformat_minor": 2
}
