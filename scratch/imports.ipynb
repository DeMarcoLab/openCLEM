{
 "cells": [
  {
   "cell_type": "code",
   "execution_count": 3,
   "metadata": {},
   "outputs": [],
   "source": [
    "%reload_ext autoreload\n",
    "%autoreload 2\n",
    "\n",
    "import os\n",
    "from openclem import utils\n",
    "from openclem.structures import MicroscopeSettings\n",
    "from pprint import pprint"
   ]
  },
  {
   "cell_type": "code",
   "execution_count": 12,
   "metadata": {},
   "outputs": [
    {
     "name": "stdout",
     "output_type": "stream",
     "text": [
      "imported laser <class 'openclem.lasers.ldi.ldi.LdiLaser'>\n",
      "imported laser_controller <class 'openclem.lasers.demo.demo.DemoLaserController'>\n",
      "imported detector <class 'openclem.detectors.hamamatsu.hamamatsu.HamamatsuOrcaFlash4'>\n"
     ]
    }
   ],
   "source": [
    "\n",
    "config_path = os.path.join(r\"C:\\Users\\Dadie1\\Github\\openclem\\openclem\\microscopes\\config.yml\")\n",
    "system_config = utils.load_yaml(config_path)\n",
    "microscope_settings = MicroscopeSettings.__from_dict__(\n",
    "    system_config.get(\"microscope\")\n",
    ")\n",
    "utils.import_hardware_modules(microscope_settings=microscope_settings)\n"
   ]
  },
  {
   "cell_type": "code",
   "execution_count": null,
   "metadata": {},
   "outputs": [],
   "source": []
  }
 ],
 "metadata": {
  "kernelspec": {
   "display_name": "piescope",
   "language": "python",
   "name": "python3"
  },
  "language_info": {
   "codemirror_mode": {
    "name": "ipython",
    "version": 3
   },
   "file_extension": ".py",
   "mimetype": "text/x-python",
   "name": "python",
   "nbconvert_exporter": "python",
   "pygments_lexer": "ipython3",
   "version": "3.9.12"
  },
  "orig_nbformat": 4
 },
 "nbformat": 4,
 "nbformat_minor": 2
}
