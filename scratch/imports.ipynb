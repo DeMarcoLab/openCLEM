{
 "cells": [
  {
   "cell_type": "code",
   "execution_count": null,
   "metadata": {},
   "outputs": [],
   "source": [
    "%reload_ext autoreload\n",
    "%autoreload 2\n",
    "\n",
    "import os\n",
    "from openlm import utils"
   ]
  },
  {
   "cell_type": "code",
   "execution_count": null,
   "metadata": {},
   "outputs": [],
   "source": [
    "laser_controller, detector, objective, synchroniser = utils.setup_session(online=True)\n",
    "print(laser_controller)\n",
    "print(laser_controller.lasers)\n",
    "print(detector)\n",
    "print(objective)\n",
    "print(synchroniser)\n",
    "from openlm import config\n",
    "from openlm.structures import SynchroniserSettings, SynchroniserMessage, TriggerEdge\n",
    "cfg_path = os.path.join(config.BASE_PATH, \"config\", \"system.yaml\")\n",
    "cfg = utils.load_yaml(cfg_path)\n",
    "synchroniser_settings = SynchroniserSettings.__from_dict__(cfg[\"synchroniser\"])\n",
    "for laser in laser_controller.lasers:\n",
    "    print(laser)\n",
    "    print(laser_controller.get_power(laser))\n",
    "    laser_controller.set_power(laser, 2.0)\n",
    "    print(laser_controller.get_power(laser))\n",
    "    laser_controller.set_power(laser, 2.0)\n"
   ]
  },
  {
   "cell_type": "code",
   "execution_count": null,
   "metadata": {},
   "outputs": [],
   "source": [
    "synchroniser_message = SynchroniserMessage.__from_dict__({\n",
    "    \"exposures\": [100, 300, 0, 0],\n",
    "    \"pins\": {\"laser1\": 1, \"laser2\": 2, \"laser3\": 3, \"laser4\": 4},\n",
    "    \"mode\": \"live\",\n",
    "    \"n_slices\": 3,\n",
    "    \"trigger_edge\": \"RISING\",\n",
    "})\n",
    "message = synchroniser.sync_image(synchroniser_message)"
   ]
  },
  {
   "cell_type": "code",
   "execution_count": null,
   "metadata": {},
   "outputs": [],
   "source": []
  },
  {
   "cell_type": "code",
   "execution_count": null,
   "metadata": {},
   "outputs": [],
   "source": [
    "print(message)\n",
    "# print(message_2)"
   ]
  },
  {
   "cell_type": "code",
   "execution_count": null,
   "metadata": {},
   "outputs": [],
   "source": [
    "synchroniser.serial_connection"
   ]
  },
  {
   "cell_type": "code",
   "execution_count": null,
   "metadata": {},
   "outputs": [],
   "source": [
    "message = synchroniser.sync_image(synchroniser_message)\n",
    "print(message)"
   ]
  },
  {
   "cell_type": "code",
   "execution_count": null,
   "metadata": {},
   "outputs": [],
   "source": [
    "for laser in laser_controller.lasers:\n",
    "    print(laser)\n",
    "    laser_controller.set_power(laser, 2)\n",
    "    print(laser_controller.get_power(laser))\n",
    "    laser_controller.set_power(laser, 2)"
   ]
  },
  {
   "cell_type": "code",
   "execution_count": null,
   "metadata": {},
   "outputs": [],
   "source": [
    "synchroniser.sync_image(synchroniser_message)"
   ]
  },
  {
   "cell_type": "code",
   "execution_count": null,
   "metadata": {},
   "outputs": [],
   "source": []
  }
 ],
 "metadata": {
  "kernelspec": {
   "display_name": "piescope",
   "language": "python",
   "name": "python3"
  },
  "language_info": {
   "codemirror_mode": {
    "name": "ipython",
    "version": 3
   },
   "file_extension": ".py",
   "mimetype": "text/x-python",
   "name": "python",
   "nbconvert_exporter": "python",
   "pygments_lexer": "ipython3",
   "version": "3.9.16"
  },
  "orig_nbformat": 4
 },
 "nbformat": 4,
 "nbformat_minor": 2
}
