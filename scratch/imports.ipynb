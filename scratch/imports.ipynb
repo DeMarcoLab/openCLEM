{
 "cells": [
  {
   "cell_type": "code",
   "execution_count": 1,
   "metadata": {},
   "outputs": [],
   "source": [
    "%reload_ext autoreload\n",
    "%autoreload 2\n",
    "\n",
    "import os\n",
    "from openlm import utils"
   ]
  },
  {
   "cell_type": "code",
   "execution_count": 2,
   "metadata": {},
   "outputs": [
    {
     "name": "stdout",
     "output_type": "stream",
     "text": [
      "2023-03-30 16:31:54,800 — root — INFO — import_hardware_modules:198 — imported laser <class 'openlm.lasers.89north.ldi.LdiLaser'>\n",
      "2023-03-30 16:31:54,801 — root — INFO — import_hardware_modules:198 — imported laser_controller <class 'openlm.lasers.89north.ldi.LdiLaserController'>\n",
      "2023-03-30 16:31:54,804 — root — INFO — import_hardware_modules:198 — imported detector <class 'openlm.detectors.demo.demo.DemoDetector'>\n",
      "2023-03-30 16:31:54,807 — root — INFO — import_hardware_modules:198 — imported objectives <class 'openlm.objectives.smaract.SMARACT.SMARACTObjectiveStage'>\n",
      "2023-03-30 16:31:54,810 — root — INFO — import_hardware_modules:198 — imported synchronisers <class 'openlm.synchronisers.arduino.leonardo.ArduinoLeonardo'>\n",
      "2023-03-30 16:31:54,813 — root — INFO — connect:28 — Connecting to Demo Detector...\n",
      "2023-03-30 16:31:55,822 — root — INFO — connect:30 — Connected to Demo Detector.\n",
      "2023-03-30 16:31:55,823 — root — INFO — connect:19 — Connecting to objective stage.\n",
      "<openlm.lasers.89north.ldi.LdiLaserController object at 0x000001D3FE792B80>\n",
      "{'laser_1': <openlm.lasers.89north.ldi.LdiLaser object at 0x000001D3FFE0D9D0>, 'laser_2': <openlm.lasers.89north.ldi.LdiLaser object at 0x000001D3FFE0DA00>, 'laser_3': <openlm.lasers.89north.ldi.LdiLaser object at 0x000001D3FFE0D8B0>, 'laser_4': <openlm.lasers.89north.ldi.LdiLaser object at 0x000001D3FFE0D6D0>}\n",
      "DemoDetector(DetectorSettings(name='demo', serial_settings=None, pixel_size=6.5e-06, resolution=[2048, 2048], trigger_source=<TriggerSource.SOFTWARE: 1>, trigger_edge=<TriggerEdge.RISING: 1>, exposure_mode=<ExposureMode.TRIGGER_WIDTH: 2>, timeout=1000))\n",
      "<openlm.objectives.smaract.SMARACT.SMARACTObjectiveStage object at 0x000001D3FFE09880>\n",
      "<openlm.synchronisers.arduino.leonardo.ArduinoLeonardo object at 0x000001D3FFE0D370>\n",
      "laser_1\n",
      "1.0\n",
      "2.0\n",
      "laser_2\n",
      "1.0\n",
      "2.0\n",
      "laser_3\n",
      "5.0\n",
      "2.0\n",
      "laser_4\n",
      "1.0\n",
      "2.0\n"
     ]
    }
   ],
   "source": [
    "laser_controller, detector, objective, synchroniser = utils.setup_session(online=True)\n",
    "print(laser_controller)\n",
    "print(laser_controller.lasers)\n",
    "print(detector)\n",
    "print(objective)\n",
    "print(synchroniser)\n",
    "from openlm import config\n",
    "from openlm.structures import SynchroniserSettings, SynchroniserMessage, TriggerEdge\n",
    "cfg_path = os.path.join(config.BASE_PATH, \"config\", \"system.yaml\")\n",
    "cfg = utils.load_yaml(cfg_path)\n",
    "synchroniser_settings = SynchroniserSettings.__from_dict__(cfg[\"synchroniser\"])\n",
    "for laser in laser_controller.lasers:\n",
    "    print(laser)\n",
    "    print(laser_controller.get_power(laser))\n",
    "    laser_controller.set_power(laser, 2.0)\n",
    "    print(laser_controller.get_power(laser))\n",
    "    laser_controller.set_power(laser, 2.0)\n"
   ]
  },
  {
   "cell_type": "code",
   "execution_count": 62,
   "metadata": {},
   "outputs": [],
   "source": [
    "synchroniser_message = SynchroniserMessage.__from_dict__({\n",
    "    \"exposures\": [100, 300, 0, 0],\n",
    "    \"pins\": {\"laser1\": 1, \"laser2\": 2, \"laser3\": 3, \"laser4\": 4},\n",
    "    \"mode\": \"live\",\n",
    "    \"n_slices\": 3,\n",
    "    \"trigger_edge\": \"RISING\",\n",
    "})\n",
    "message = synchroniser.sync_image(synchroniser_message)"
   ]
  },
  {
   "cell_type": "code",
   "execution_count": 5,
   "metadata": {},
   "outputs": [
    {
     "name": "stdout",
     "output_type": "stream",
     "text": [
      "Port is open, closing it first\n",
      "None\n"
     ]
    }
   ],
   "source": []
  },
  {
   "cell_type": "code",
   "execution_count": 4,
   "metadata": {},
   "outputs": [
    {
     "name": "stdout",
     "output_type": "stream",
     "text": [
      "EL100 3000 0 0 3 1\n",
      "\n"
     ]
    }
   ],
   "source": [
    "print(message)\n",
    "# print(message_2)"
   ]
  },
  {
   "cell_type": "code",
   "execution_count": 6,
   "metadata": {},
   "outputs": [
    {
     "data": {
      "text/plain": [
       "Serial<id=0x23c99a92eb0, open=False>(port='COM7', baudrate=115200, bytesize=8, parity='N', stopbits=1, timeout=1, xonxoff=False, rtscts=False, dsrdtr=False)"
      ]
     },
     "execution_count": 6,
     "metadata": {},
     "output_type": "execute_result"
    }
   ],
   "source": [
    "synchroniser.serial_connection"
   ]
  },
  {
   "cell_type": "code",
   "execution_count": 19,
   "metadata": {},
   "outputs": [
    {
     "name": "stdout",
     "output_type": "stream",
     "text": [
      "EL100 300 0 0 3 1\n"
     ]
    }
   ],
   "source": [
    "message = synchroniser.sync_image(synchroniser_message)\n",
    "print(message)"
   ]
  },
  {
   "cell_type": "code",
   "execution_count": 20,
   "metadata": {},
   "outputs": [
    {
     "name": "stdout",
     "output_type": "stream",
     "text": [
      "laser_1\n",
      "2\n",
      "laser_2\n",
      "2\n",
      "laser_3\n",
      "2\n",
      "laser_4\n",
      "2\n"
     ]
    }
   ],
   "source": [
    "for laser in laser_controller.lasers:\n",
    "    print(laser)\n",
    "    laser_controller.set_power(laser, 2)\n",
    "    print(laser_controller.get_power(laser))\n",
    "    laser_controller.set_power(laser, 2)"
   ]
  },
  {
   "cell_type": "code",
   "execution_count": 56,
   "metadata": {},
   "outputs": [
    {
     "data": {
      "text/plain": [
       "'EL100 3000 0 0 3 1'"
      ]
     },
     "execution_count": 56,
     "metadata": {},
     "output_type": "execute_result"
    }
   ],
   "source": [
    "synchroniser.sync_image(synchroniser_message)"
   ]
  },
  {
   "cell_type": "code",
   "execution_count": null,
   "metadata": {},
   "outputs": [],
   "source": []
  }
 ],
 "metadata": {
  "kernelspec": {
   "display_name": "piescope",
   "language": "python",
   "name": "python3"
  },
  "language_info": {
   "codemirror_mode": {
    "name": "ipython",
    "version": 3
   },
   "file_extension": ".py",
   "mimetype": "text/x-python",
   "name": "python",
   "nbconvert_exporter": "python",
   "pygments_lexer": "ipython3",
   "version": "3.9.16"
  },
  "orig_nbformat": 4
 },
 "nbformat": 4,
 "nbformat_minor": 2
}
