{
 "cells": [
  {
   "cell_type": "code",
   "execution_count": 1,
   "metadata": {},
   "outputs": [],
   "source": [
    "%reload_ext autoreload\n",
    "%autoreload 2\n",
    "\n",
    "import os\n",
    "from openclem import utils"
   ]
  },
  {
   "cell_type": "code",
   "execution_count": 2,
   "metadata": {},
   "outputs": [
    {
     "name": "stdout",
     "output_type": "stream",
     "text": [
      "2023-03-30 15:26:01,149 — root — INFO — import_hardware_modules:169 — imported laser <class 'openclem.lasers.demo.demo.DemoLaser'>\n",
      "2023-03-30 15:26:01,151 — root — INFO — import_hardware_modules:169 — imported laser_controller <class 'openclem.lasers.demo.demo.DemoLaserController'>\n",
      "2023-03-30 15:26:01,155 — root — INFO — import_hardware_modules:169 — imported detector <class 'openclem.detectors.demo.demo.DemoDetector'>\n",
      "2023-03-30 15:26:01,158 — root — INFO — import_hardware_modules:169 — imported objectives <class 'openclem.objectives.smaract.SMARACT.SMARACTObjectiveStage'>\n",
      "2023-03-30 15:26:01,159 — root — INFO — disable:72 — Disabling laser_1\n",
      "2023-03-30 15:26:01,161 — root — INFO — disable:72 — Disabling laser_2\n",
      "2023-03-30 15:26:01,162 — root — INFO — disable:72 — Disabling laser_3\n",
      "2023-03-30 15:26:01,164 — root — INFO — disable:72 — Disabling laser_4\n",
      "2023-03-30 15:26:01,165 — root — INFO — connect:94 — Connecting to demo\n",
      "2023-03-30 15:26:01,166 — root — INFO — connect:96 — Connected to demo\n",
      "2023-03-30 15:26:01,167 — root — INFO — connect:28 — Connecting to Demo Detector...\n",
      "2023-03-30 15:26:02,181 — root — INFO — connect:30 — Connected to Demo Detector.\n",
      "2023-03-30 15:26:02,182 — root — INFO — connect:19 — Connecting to objective stage.\n",
      "<openclem.lasers.demo.demo.DemoLaserController object at 0x000002AF682BCFD0>\n",
      "{'laser_1': <openclem.lasers.demo.demo.DemoLaser object at 0x000002AF682CFFD0>, 'laser_2': <openclem.lasers.demo.demo.DemoLaser object at 0x000002AF60D39D30>, 'laser_3': <openclem.lasers.demo.demo.DemoLaser object at 0x000002AF682CFCD0>, 'laser_4': <openclem.lasers.demo.demo.DemoLaser object at 0x000002AF682CFD90>}\n",
      "DemoDetector(DetectorSettings(name='demo', serial_settings=None, pixel_size=6.5e-06, resolution=[2048, 2048], trigger_source=<TriggerSource.SOFTWARE: 1>, trigger_edge=<TriggerEdge.RISING: 1>, exposure_mode=<ExposureMode.TRIGGER_WIDTH: 2>, timeout=1000))\n",
      "<openclem.objectives.smaract.SMARACT.SMARACTObjectiveStage object at 0x000002AF682CFE50>\n"
     ]
    }
   ],
   "source": [
    "laser_controller, detector, objective = utils.setup_session(online=True)\n",
    "print(laser_controller)\n",
    "print(laser_controller.lasers)\n",
    "print(detector)\n",
    "print(objective)"
   ]
  },
  {
   "cell_type": "code",
   "execution_count": 19,
   "metadata": {},
   "outputs": [],
   "source": [
    "# objective.initialise()\n",
    "objective.relative_move(int(1e6)) # in nm"
   ]
  },
  {
   "cell_type": "code",
   "execution_count": 9,
   "metadata": {},
   "outputs": [
    {
     "ename": "ModuleNotFoundError",
     "evalue": "No module named 'nidaqmx'",
     "output_type": "error",
     "traceback": [
      "\u001b[1;31m---------------------------------------------------------------------------\u001b[0m",
      "\u001b[1;31mModuleNotFoundError\u001b[0m                       Traceback (most recent call last)",
      "Cell \u001b[1;32mIn[9], line 4\u001b[0m\n\u001b[0;32m      2\u001b[0m \u001b[39mfrom\u001b[39;00m \u001b[39mopenclem\u001b[39;00m\u001b[39m.\u001b[39;00m\u001b[39mstructures\u001b[39;00m \u001b[39mimport\u001b[39;00m SynchroniserSettings, SynchroniserMessage, TriggerEdge\n\u001b[0;32m      3\u001b[0m \u001b[39mfrom\u001b[39;00m \u001b[39mopenclem\u001b[39;00m\u001b[39m.\u001b[39;00m\u001b[39msynchronisers\u001b[39;00m\u001b[39m.\u001b[39;00m\u001b[39marduino\u001b[39;00m \u001b[39mimport\u001b[39;00m leonardo\n\u001b[1;32m----> 4\u001b[0m \u001b[39mfrom\u001b[39;00m \u001b[39mopenclem\u001b[39;00m\u001b[39m.\u001b[39;00m\u001b[39msynchronisers\u001b[39;00m\u001b[39m.\u001b[39;00m\u001b[39mni\u001b[39;00m \u001b[39mimport\u001b[39;00m ni_usb\n",
      "File \u001b[1;32mc:\\users\\admin\\github\\openclem\\openclem\\synchronisers\\ni\\ni_usb.py:3\u001b[0m\n\u001b[0;32m      1\u001b[0m \u001b[39mimport\u001b[39;00m \u001b[39mtime\u001b[39;00m\n\u001b[1;32m----> 3\u001b[0m \u001b[39mimport\u001b[39;00m \u001b[39mnidaqmx\u001b[39;00m\n\u001b[0;32m      4\u001b[0m \u001b[39mfrom\u001b[39;00m \u001b[39mnidaqmx\u001b[39;00m\u001b[39m.\u001b[39;00m\u001b[39mconstants\u001b[39;00m \u001b[39mimport\u001b[39;00m LineGrouping\n\u001b[0;32m      6\u001b[0m \u001b[39mfrom\u001b[39;00m \u001b[39mopenclem\u001b[39;00m\u001b[39m.\u001b[39;00m\u001b[39mstructures\u001b[39;00m \u001b[39mimport\u001b[39;00m SynchroniserMessage, SynchroniserSettings\n",
      "\u001b[1;31mModuleNotFoundError\u001b[0m: No module named 'nidaqmx'"
     ]
    }
   ],
   "source": [
    "from openclem import config\n",
    "from openclem.structures import SynchroniserSettings, SynchroniserMessage, TriggerEdge\n",
    "from openclem.synchronisers.arduino import leonardo\n",
    "from openclem.synchronisers.ni import ni_usb\n"
   ]
  },
  {
   "cell_type": "code",
   "execution_count": 22,
   "metadata": {},
   "outputs": [],
   "source": [
    "cfg_path = os.path.join(config.BASE_PATH, \"config\", \"system.yaml\")"
   ]
  },
  {
   "cell_type": "code",
   "execution_count": 23,
   "metadata": {},
   "outputs": [],
   "source": [
    "cfg = utils.load_yaml(cfg_path)\n",
    "synchroniser_settings = SynchroniserSettings.__from_dict__(cfg[\"synchroniser\"])"
   ]
  },
  {
   "cell_type": "code",
   "execution_count": 24,
   "metadata": {},
   "outputs": [],
   "source": [
    "leo = leonardo.ArduinoLeonardo(synchroniser_settings)\n",
    "usb = ni_usb.NI_USB(synchroniser_settings)"
   ]
  },
  {
   "cell_type": "code",
   "execution_count": 16,
   "metadata": {},
   "outputs": [],
   "source": [
    "synchroniser_message = SynchroniserMessage.__from_dict__({\n",
    "    \"exposures\": [1000, 2000, 3000, 4000],\n",
    "    \"pins\": {\"laser1\": 1, \"laser2\": 2, \"laser3\": 3, \"laser4\": 4},\n",
    "    \"mode\": \"live\",\n",
    "    \"n_slices\": 3,\n",
    "    \"trigger_edge\": \"RISING\",\n",
    "})\n"
   ]
  },
  {
   "cell_type": "code",
   "execution_count": 17,
   "metadata": {},
   "outputs": [],
   "source": [
    "message = leo.sync_image(synchroniser_message)\n",
    "message_2 = usb.sync_image(synchroniser_message)"
   ]
  },
  {
   "cell_type": "code",
   "execution_count": 18,
   "metadata": {},
   "outputs": [
    {
     "name": "stdout",
     "output_type": "stream",
     "text": [
      "EL1000 2000 3000 4000 3 1\n",
      "None\n"
     ]
    }
   ],
   "source": [
    "print(message)\n",
    "print(message_2)"
   ]
  },
  {
   "cell_type": "code",
   "execution_count": null,
   "metadata": {},
   "outputs": [],
   "source": []
  }
 ],
 "metadata": {
  "kernelspec": {
   "display_name": "piescope",
   "language": "python",
   "name": "python3"
  },
  "language_info": {
   "codemirror_mode": {
    "name": "ipython",
    "version": 3
   },
   "file_extension": ".py",
   "mimetype": "text/x-python",
   "name": "python",
   "nbconvert_exporter": "python",
   "pygments_lexer": "ipython3",
   "version": "3.9.16"
  },
  "orig_nbformat": 4
 },
 "nbformat": 4,
 "nbformat_minor": 2
}
