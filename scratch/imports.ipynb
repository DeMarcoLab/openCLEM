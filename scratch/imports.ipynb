{
 "cells": [
  {
   "cell_type": "code",
   "execution_count": 6,
   "metadata": {},
   "outputs": [],
   "source": [
    "%reload_ext autoreload\n",
    "%autoreload 2\n",
    "\n",
    "import os\n",
    "from openclem import utils"
   ]
  },
  {
   "cell_type": "code",
   "execution_count": 9,
   "metadata": {},
   "outputs": [
    {
     "name": "stdout",
     "output_type": "stream",
     "text": [
      "2023-03-28 15:10:18,812 — root — INFO — import_hardware_modules:149 — imported laser <class 'openclem.lasers.toptica.iCLE.iCLELaser'>\n",
      "C:\\Users\\Dadie1\\Github\\openclem\\openclem\\lasers\\toptica\n",
      "2023-03-28 15:10:18,814 — root — INFO — import_hardware_modules:149 — imported laser_controller <class 'openclem.lasers.toptica.iCLE.iCLELaserController'>\n",
      "C:\\Users\\Dadie1\\Github\\openclem\\openclem\\lasers\\toptica\n",
      "2023-03-28 15:10:18,815 — root — INFO — import_hardware_modules:149 — imported detector <class 'openclem.detectors.hamamatsu.hamamatsu.HamamatsuOrcaFlash4'>\n",
      "C:\\Users\\Dadie1\\Github\\openclem\\openclem\\detectors\\hamamatsu\n",
      "Classes: [<class 'openclem.lasers.toptica.iCLE.iCLELaser'>, <class 'openclem.lasers.toptica.iCLE.iCLELaserController'>, <class 'openclem.detectors.hamamatsu.hamamatsu.HamamatsuOrcaFlash4'>]\n"
     ]
    }
   ],
   "source": [
    "config_path = os.path.join(r\"C:\\Users\\Dadie1\\Github\\openclem\\openclem\\config\\system.yaml\")\n",
    "utils.setup_session(config_path=config_path)"
   ]
  },
  {
   "cell_type": "code",
   "execution_count": null,
   "metadata": {},
   "outputs": [],
   "source": []
  }
 ],
 "metadata": {
  "kernelspec": {
   "display_name": "piescope",
   "language": "python",
   "name": "python3"
  },
  "language_info": {
   "codemirror_mode": {
    "name": "ipython",
    "version": 3
   },
   "file_extension": ".py",
   "mimetype": "text/x-python",
   "name": "python",
   "nbconvert_exporter": "python",
   "pygments_lexer": "ipython3",
   "version": "3.9.12"
  },
  "orig_nbformat": 4
 },
 "nbformat": 4,
 "nbformat_minor": 2
}
