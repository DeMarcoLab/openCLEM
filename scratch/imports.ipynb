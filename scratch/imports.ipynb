{
 "cells": [
  {
   "cell_type": "code",
   "execution_count": 1,
   "metadata": {},
   "outputs": [],
   "source": [
    "%reload_ext autoreload\n",
    "%autoreload 2\n",
    "\n",
    "import os\n",
    "from openclem import utils"
   ]
  },
  {
   "cell_type": "code",
   "execution_count": 3,
   "metadata": {},
   "outputs": [
    {
     "name": "stdout",
     "output_type": "stream",
     "text": [
      "C:\\Users\\Dadie1\\Github\\openclem\\openclem\\lasers\\demo\n",
      "C:\\Users\\Dadie1\\Github\\openclem\\openclem\\lasers\\demo\n",
      "C:\\Users\\Dadie1\\Github\\openclem\\openclem\\detectors\\demo\n",
      "2023-03-30 13:48:27,873 — root — INFO — disable:72 — Disabling laser_1\n",
      "2023-03-30 13:48:27,874 — root — INFO — disable:72 — Disabling laser_2\n",
      "2023-03-30 13:48:27,874 — root — INFO — disable:72 — Disabling laser_3\n",
      "2023-03-30 13:48:27,875 — root — INFO — disable:72 — Disabling laser_4\n"
     ]
    }
   ],
   "source": [
    "config_path = os.path.join(r\"C:\\Users\\Dadie1\\Github\\openclem\\openclem\\config\\system.yaml\")\n",
    "# config_path = r\"C:\\Users\\User\\Github\\openCLEM\\openclem\\config\\system.yaml\"\n",
    "laser_controller, detector = utils.setup_session(config_path=config_path, online=False)"
   ]
  },
  {
   "cell_type": "code",
   "execution_count": 4,
   "metadata": {},
   "outputs": [
    {
     "name": "stdout",
     "output_type": "stream",
     "text": [
      "<openclem.lasers.demo.demo.DemoLaserController object at 0x000002C6D32B2820>\n",
      "{'laser_1': <openclem.lasers.demo.demo.DemoLaser object at 0x000002C6D32B2910>, 'laser_2': <openclem.lasers.demo.demo.DemoLaser object at 0x000002C6D32B2940>, 'laser_3': <openclem.lasers.demo.demo.DemoLaser object at 0x000002C6D32B2970>, 'laser_4': <openclem.lasers.demo.demo.DemoLaser object at 0x000002C6D32B29A0>}\n",
      "DemoDetector(DetectorSettings(name='demo', serial_settings=None, pixel_size=6.5e-06, resolution=[2048, 2048], trigger_source=<TriggerSource.SOFTWARE: 1>, trigger_edge=<TriggerEdge.RISING: 1>, exposure_mode=<ExposureMode.TRIGGER_WIDTH: 2>, timeout=1000))\n"
     ]
    }
   ],
   "source": [
    "print(laser_controller)\n",
    "print(laser_controller.lasers)\n",
    "print(detector)"
   ]
  },
  {
   "cell_type": "code",
   "execution_count": 5,
   "metadata": {},
   "outputs": [],
   "source": [
    "from openclem import config\n",
    "from openclem.structures import SynchroniserSettings, SynchroniserMessage, TriggerEdge\n",
    "from openclem.synchronisers.arduino import leonardo\n",
    "from openclem.synchronisers.ni import ni_usb\n"
   ]
  },
  {
   "cell_type": "code",
   "execution_count": 6,
   "metadata": {},
   "outputs": [],
   "source": [
    "cfg_path = os.path.join(config.BASE_PATH, \"config\", \"system.yaml\")"
   ]
  },
  {
   "cell_type": "code",
   "execution_count": 7,
   "metadata": {},
   "outputs": [],
   "source": [
    "cfg = utils.load_yaml(cfg_path)\n",
    "synchroniser_settings = SynchroniserSettings.__from_dict__(cfg[\"synchroniser\"])"
   ]
  },
  {
   "cell_type": "code",
   "execution_count": 8,
   "metadata": {},
   "outputs": [],
   "source": [
    "leo = leonardo.ArduinoLeonardo(synchroniser_settings)\n",
    "usb = ni_usb.NI_USB(synchroniser_settings)"
   ]
  },
  {
   "cell_type": "code",
   "execution_count": 16,
   "metadata": {},
   "outputs": [],
   "source": [
    "synchroniser_message = SynchroniserMessage.__from_dict__({\n",
    "    \"exposures\": [1000, 2000, 3000, 4000],\n",
    "    \"pins\": {\"laser1\": 1, \"laser2\": 2, \"laser3\": 3, \"laser4\": 4},\n",
    "    \"mode\": \"live\",\n",
    "    \"n_slices\": 3,\n",
    "    \"trigger_edge\": \"RISING\",\n",
    "})\n"
   ]
  },
  {
   "cell_type": "code",
   "execution_count": 17,
   "metadata": {},
   "outputs": [],
   "source": [
    "message = leo.sync_image(synchroniser_message)\n",
    "message_2 = usb.sync_image(synchroniser_message)"
   ]
  },
  {
   "cell_type": "code",
   "execution_count": 18,
   "metadata": {},
   "outputs": [
    {
     "name": "stdout",
     "output_type": "stream",
     "text": [
      "EL1000 2000 3000 4000 3 1\n",
      "None\n"
     ]
    }
   ],
   "source": [
    "print(message)\n",
    "print(message_2)"
   ]
  },
  {
   "cell_type": "code",
   "execution_count": null,
   "metadata": {},
   "outputs": [],
   "source": []
  }
 ],
 "metadata": {
  "kernelspec": {
   "display_name": "piescope",
   "language": "python",
   "name": "python3"
  },
  "language_info": {
   "codemirror_mode": {
    "name": "ipython",
    "version": 3
   },
   "file_extension": ".py",
   "mimetype": "text/x-python",
   "name": "python",
   "nbconvert_exporter": "python",
   "pygments_lexer": "ipython3",
   "version": "3.9.12"
  },
  "orig_nbformat": 4
 },
 "nbformat": 4,
 "nbformat_minor": 2
}
