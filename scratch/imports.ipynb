{
 "cells": [
  {
   "cell_type": "code",
   "execution_count": 1,
   "metadata": {},
   "outputs": [],
   "source": [
    "%reload_ext autoreload\n",
    "%autoreload 2\n",
    "\n",
    "import os\n",
    "from openclem import utils"
   ]
  },
  {
   "cell_type": "code",
   "execution_count": null,
   "metadata": {},
   "outputs": [],
   "source": []
  },
  {
   "cell_type": "code",
   "execution_count": 28,
   "metadata": {},
   "outputs": [
    {
     "name": "stdout",
     "output_type": "stream",
     "text": [
      "2023-03-29 13:02:15,412 — root — INFO — import_hardware_modules:156 — imported laser <class 'openclem.lasers.demo.demo.DemoLaser'>\n",
      "c:\\users\\user\\github\\openclem\\openclem\\lasers\\demo\n",
      "2023-03-29 13:02:15,413 — root — INFO — import_hardware_modules:156 — imported laser_controller <class 'openclem.lasers.demo.demo.DemoLaserController'>\n",
      "c:\\users\\user\\github\\openclem\\openclem\\lasers\\demo\n",
      "2023-03-29 13:02:15,414 — root — INFO — import_hardware_modules:156 — imported detector <class 'openclem.detectors.demo.demo.DemoDetector'>\n",
      "c:\\users\\user\\github\\openclem\\openclem\\detectors\\demo\n",
      "Classes: [<class 'openclem.lasers.demo.demo.DemoLaser'>, <class 'openclem.lasers.demo.demo.DemoLaserController'>, <class 'openclem.detectors.demo.demo.DemoDetector'>]\n",
      "2023-03-29 13:02:15,416 — root — INFO — disable:72 — Disabling laser_1\n",
      "2023-03-29 13:02:15,416 — root — INFO — disable:72 — Disabling laser_2\n",
      "2023-03-29 13:02:15,417 — root — INFO — disable:72 — Disabling laser_3\n",
      "2023-03-29 13:02:15,417 — root — INFO — disable:72 — Disabling laser_4\n"
     ]
    }
   ],
   "source": [
    "# config_path = os.path.join(r\"C:\\Users\\Dadie1\\Github\\openclem\\openclem\\config\\system.yaml\")\n",
    "config_path = r\"C:\\Users\\User\\Github\\openCLEM\\openclem\\config\\system.yaml\"\n",
    "laser_controller, detector, obj = utils.setup_session(config_path=config_path, online=False)"
   ]
  },
  {
   "cell_type": "code",
   "execution_count": 29,
   "metadata": {},
   "outputs": [
    {
     "name": "stdout",
     "output_type": "stream",
     "text": [
      "<openclem.lasers.demo.demo.DemoLaserController object at 0x000001AEECB4C490>\n",
      "{'laser_1': <openclem.lasers.demo.demo.DemoLaser object at 0x000001AEEC7A3310>, 'laser_2': <openclem.lasers.demo.demo.DemoLaser object at 0x000001AEECAF6640>, 'laser_3': <openclem.lasers.demo.demo.DemoLaser object at 0x000001AEECAF69A0>, 'laser_4': <openclem.lasers.demo.demo.DemoLaser object at 0x000001AEECAF6760>}\n",
      "<openclem.detectors.demo.demo.DemoDetector object at 0x000001AEEC78DD60>\n"
     ]
    }
   ],
   "source": [
    "print(laser_controller)\n",
    "print(laser_controller.lasers)\n",
    "print(detector)"
   ]
  },
  {
   "cell_type": "code",
   "execution_count": 4,
   "metadata": {},
   "outputs": [
    {
     "ename": "TypeError",
     "evalue": "__init__() missing 2 required positional arguments: 'laser_settings' and 'parent'",
     "output_type": "error",
     "traceback": [
      "\u001b[1;31m---------------------------------------------------------------------------\u001b[0m",
      "\u001b[1;31mTypeError\u001b[0m                                 Traceback (most recent call last)",
      "Cell \u001b[1;32mIn[4], line 2\u001b[0m\n\u001b[0;32m      1\u001b[0m \u001b[39mfor\u001b[39;00m \u001b[39mcls\u001b[39m \u001b[39min\u001b[39;00m classes:\n\u001b[1;32m----> 2\u001b[0m     \u001b[39mcls\u001b[39;49m()\n",
      "\u001b[1;31mTypeError\u001b[0m: __init__() missing 2 required positional arguments: 'laser_settings' and 'parent'"
     ]
    }
   ],
   "source": []
  },
  {
   "cell_type": "code",
   "execution_count": null,
   "metadata": {},
   "outputs": [],
   "source": []
  }
 ],
 "metadata": {
  "kernelspec": {
   "display_name": "piescope",
   "language": "python",
   "name": "python3"
  },
  "language_info": {
   "codemirror_mode": {
    "name": "ipython",
    "version": 3
   },
   "file_extension": ".py",
   "mimetype": "text/x-python",
   "name": "python",
   "nbconvert_exporter": "python",
   "pygments_lexer": "ipython3",
   "version": "3.9.16"
  },
  "orig_nbformat": 4
 },
 "nbformat": 4,
 "nbformat_minor": 2
}
