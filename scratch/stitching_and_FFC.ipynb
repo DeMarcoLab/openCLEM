{
 "cells": [
  {
   "cell_type": "code",
   "execution_count": null,
   "metadata": {},
   "outputs": [],
   "source": [
    "%load_ext autoreload\n",
    "%autoreload 2\n",
    "import numpy as np\n",
    "from glob import glob\n",
    "import matplotlib.pyplot as plt\n",
    "import os\n",
    "import tifffile as tiff\n",
    "import openlm.tools.stitching as st\n",
    "from pprint import pprint\n",
    "from openlm.structures import StitchingParameters\n",
    "from openlm.tools import flat_field_correction as ffc"
   ]
  },
  {
   "cell_type": "code",
   "execution_count": null,
   "metadata": {},
   "outputs": [],
   "source": [
    "lm_paths = glob(r\"C:\\Users\\User\\Documents\\15-06-23 - Cells - LM\\15-06-23 - Cells - LM\\*\\max.tif\")\n",
    "# sort lm paths into lists by dirname\n",
    "lm_paths_by_dirname = {}\n",
    "\n",
    "for path in lm_paths:\n",
    "    dirname = os.path.dirname(path)\n",
    "    if dirname not in lm_paths_by_dirname:\n",
    "        lm_paths_by_dirname[dirname] = []\n",
    "    lm_paths_by_dirname[dirname].append(os.path.basename(path))"
   ]
  },
  {
   "cell_type": "code",
   "execution_count": null,
   "metadata": {},
   "outputs": [],
   "source": [
    "# group the paths into groups of 3\n",
    "count = 0\n",
    "grouped_paths = {}\n",
    "for folder in lm_paths_by_dirname.keys():\n",
    "    if count % 3 == 0:\n",
    "        current_folder = count\n",
    "        grouped_paths[current_folder ] = []\n",
    "    grouped_paths[current_folder].append(folder)\n",
    "    count += 1\n",
    "\n",
    "from pprint import pprint\n",
    "pprint(grouped_paths)"
   ]
  },
  {
   "cell_type": "code",
   "execution_count": null,
   "metadata": {},
   "outputs": [],
   "source": [
    "flat_field = ffc.FLATFIELDNORMALISED\n",
    "# find location of max pixel in flat field\n",
    "flat_field_max = np.unravel_index(np.argmin(flat_field), flat_field.shape)\n",
    "print(flat_field_max)\n",
    "# set flat_field_max to average\n",
    "flat_field[flat_field_max] = np.mean(flat_field)\n",
    "plt.imshow(flat_field, cmap='gray')\n",
    "plt.colorbar()\n",
    "plt.figure()\n",
    "plt.imshow(1/flat_field, cmap='turbo')\n",
    "plt.colorbar()\n"
   ]
  },
  {
   "cell_type": "code",
   "execution_count": null,
   "metadata": {},
   "outputs": [],
   "source": [
    "stiching_parameters = StitchingParameters.__from_dict__({\n",
    "    \"folder_path\": r\"C:\\Users\\User\\Documents\\15-06-23 - Cells - LM\\15-06-23 - Cells - LM\",\n",
    "    \"n_rows\": 1,\n",
    "    \"n_cols\": 3,\n",
    "    \"debug\": True,\n",
    "})\n",
    "image_1 = tiff.imread(os.path.join(grouped_paths[0][-1], 'max.tif'))\n",
    "image_2 = tiff.imread(os.path.join(grouped_paths[0][-2], 'max.tif'))\n",
    "image_3 = tiff.imread(os.path.join(grouped_paths[0][-3], 'max.tif'))\n",
    "\n",
    "ax, fig = plt.subplots(3, 2, figsize=(10, 15))\n",
    "fig[0, 0].imshow(image_1)\n",
    "fig[0, 1].imshow(ffc.corrected_image(image_1, ffc.DARKFIELD, ffc.FLATFIELDNORMALISED))\n",
    "fig[1, 0].imshow(image_2)\n",
    "fig[1, 1].imshow(ffc.corrected_image(image_2, ffc.DARKFIELD, ffc.FLATFIELDNORMALISED))\n",
    "fig[2, 0].imshow(image_3)\n",
    "fig[2, 1].imshow(ffc.corrected_image(image_3, ffc.DARKFIELD, ffc.FLATFIELDNORMALISED))\n",
    "\n"
   ]
  },
  {
   "cell_type": "code",
   "execution_count": null,
   "metadata": {},
   "outputs": [],
   "source": [
    "plt.imshow(ffc.FLATFIELDNORMALISED, cmap='gray')\n",
    "plt.colorbar()"
   ]
  },
  {
   "cell_type": "code",
   "execution_count": null,
   "metadata": {},
   "outputs": [],
   "source": [
    "ax, fig = plt.subplots(3, 3, figsize=(20, 20))\n",
    "\n",
    "image_1 = tiff.imread(os.path.join(grouped_paths[0][-1], 'max.tif'))\n",
    "image_2 = tiff.imread(os.path.join(grouped_paths[0][-2], 'max.tif'))\n",
    "image_3 = tiff.imread(os.path.join(grouped_paths[0][-3], 'max.tif'))\n",
    "\n",
    "fig[0, 0].imshow(image_1)\n",
    "fig[0, 1].imshow(image_2)\n",
    "fig[0, 2].imshow(image_3)\n",
    "\n",
    "images = [image_1, image_2, image_3]\n",
    "\n",
    "image_1_2 = tiff.imread(os.path.join(grouped_paths[3][-3], 'max.tif'))\n",
    "image_2_2 = tiff.imread(os.path.join(grouped_paths[3][-2], 'max.tif'))\n",
    "image_3_2 = tiff.imread(os.path.join(grouped_paths[3][-1], 'max.tif'))\n",
    "\n",
    "fig[1, 0].imshow(image_3_2)\n",
    "fig[1, 1].imshow(image_2_2)\n",
    "fig[1, 2].imshow(image_1_2)\n",
    "\n",
    "images2 = [image_1_2, image_2_2, image_3_2]\n",
    "\n",
    "image_1_3 = tiff.imread(os.path.join(grouped_paths[6][-1], 'max.tif'))\n",
    "image_2_3 = tiff.imread(os.path.join(grouped_paths[6][-2], 'max.tif'))\n",
    "image_3_3 = tiff.imread(os.path.join(grouped_paths[6][-3], 'max.tif'))\n",
    "\n",
    "fig[2, 0].imshow(image_1_3)\n",
    "fig[2, 1].imshow(image_2_3)\n",
    "fig[2, 2].imshow(image_3_3)\n",
    "\n",
    "images3 = [image_1_3, image_2_3, image_3_3]\n",
    "\n",
    "images_total = [images, images2, images3]\n",
    "\n",
    "plt.show()\n",
    "\n",
    "result = st.stitch_tile(images_total, stiching_parameters, dpi=300, cmap='turbo', figsize=(10, 10))\n",
    "plt.figure(figsize=(20, 20))\n",
    "plt.imshow(result, cmap='turbo')\n",
    "plt.show()"
   ]
  },
  {
   "cell_type": "code",
   "execution_count": null,
   "metadata": {},
   "outputs": [],
   "source": [
    "ax, fig = plt.subplots(3, 3, figsize=(20, 20))\n",
    "\n",
    "image_1 = tiff.imread(os.path.join(grouped_paths[0][-1], 'max.tif'))\n",
    "image_1 = ffc.corrected_image(image_1, ffc.DARKFIELD, ffc.FLATFIELDNORMALISED)\n",
    "image_2 = tiff.imread(os.path.join(grouped_paths[0][-2], 'max.tif'))\n",
    "image_2 = ffc.corrected_image(image_2, ffc.DARKFIELD, ffc.FLATFIELDNORMALISED)\n",
    "image_3 = tiff.imread(os.path.join(grouped_paths[0][-3], 'max.tif'))\n",
    "image_3 = ffc.corrected_image(image_3, ffc.DARKFIELD, ffc.FLATFIELDNORMALISED)\n",
    "\n",
    "fig[0, 0].imshow(image_1)\n",
    "fig[0, 1].imshow(image_2)\n",
    "fig[0, 2].imshow(image_3)\n",
    "\n",
    "images = [image_1, image_2, image_3]\n",
    "\n",
    "image_1_2 = tiff.imread(os.path.join(grouped_paths[3][-3], 'max.tif'))\n",
    "image_1_2 = ffc.corrected_image(image_1_2, ffc.DARKFIELD, ffc.FLATFIELDNORMALISED)\n",
    "image_2_2 = tiff.imread(os.path.join(grouped_paths[3][-2], 'max.tif'))\n",
    "image_2_2 = ffc.corrected_image(image_2_2, ffc.DARKFIELD, ffc.FLATFIELDNORMALISED)\n",
    "image_3_2 = tiff.imread(os.path.join(grouped_paths[3][-1], 'max.tif'))\n",
    "image_3_2 = ffc.corrected_image(image_3_2, ffc.DARKFIELD, ffc.FLATFIELDNORMALISED)\n",
    "\n",
    "fig[1, 0].imshow(image_3_2)\n",
    "fig[1, 1].imshow(image_2_2)\n",
    "fig[1, 2].imshow(image_1_2)\n",
    "\n",
    "images2 = [image_1_2, image_2_2, image_3_2]\n",
    "\n",
    "image_1_3 = tiff.imread(os.path.join(grouped_paths[6][-1], 'max.tif'))\n",
    "image_1_3 = ffc.corrected_image(image_1_3, ffc.DARKFIELD, ffc.FLATFIELDNORMALISED)\n",
    "image_2_3 = tiff.imread(os.path.join(grouped_paths[6][-2], 'max.tif'))\n",
    "image_2_3 = ffc.corrected_image(image_2_3, ffc.DARKFIELD, ffc.FLATFIELDNORMALISED)\n",
    "image_3_3 = tiff.imread(os.path.join(grouped_paths[6][-3], 'max.tif'))\n",
    "image_3_3 = ffc.corrected_image(image_3_3, ffc.DARKFIELD, ffc.FLATFIELDNORMALISED)\n",
    "\n",
    "fig[2, 0].imshow(image_1_3)\n",
    "fig[2, 1].imshow(image_2_3)\n",
    "fig[2, 2].imshow(image_3_3)\n",
    "\n",
    "images3 = [image_1_3, image_2_3, image_3_3]\n",
    "\n",
    "images_total = [images, images2, images3]\n",
    "\n",
    "plt.show()\n",
    "\n",
    "result = st.stitch_tile(images_total, stiching_parameters, dpi=300, cmap='turbo', figsize=(10, 10))\n",
    "plt.figure(figsize=(20, 20))\n",
    "plt.imshow(result, cmap='turbo')\n",
    "plt.colorbar()\n",
    "plt.show()"
   ]
  },
  {
   "cell_type": "code",
   "execution_count": null,
   "metadata": {},
   "outputs": [],
   "source": [
    "# save result array\n",
    "tiff.imsave(os.path.join(r'C:\\Users\\User\\Github\\openCLEM\\scratch', 'stitched.tif'), result)"
   ]
  },
  {
   "cell_type": "code",
   "execution_count": null,
   "metadata": {},
   "outputs": [],
   "source": [
    "\n",
    "flat_field_ = ffc.FLATFIELDARRAY\n",
    "\n",
    "plt.imshow(flat_field_, cmap='turbo')\n",
    "plt.colorbar()\n",
    "plt.figure()\n",
    "plt.imshow(1/flat_field_, cmap='turbo')\n",
    "plt.colorbar()\n",
    "plt.show()\n",
    "# find location of max pixel in flat field\n",
    "flat_field_min = np.unravel_index(np.argmin(flat_field_), flat_field_.shape)\n",
    "print(flat_field_min)\n",
    "# set flat_field_max to average\n",
    "flat_field_[flat_field_min] = np.mean(flat_field_)\n",
    "plt.imshow(flat_field_, cmap='gray')\n",
    "plt.colorbar()\n",
    "plt.figure()\n",
    "plt.imshow(1/flat_field_, cmap='turbo')\n",
    "plt.colorbar()\n"
   ]
  },
  {
   "cell_type": "code",
   "execution_count": null,
   "metadata": {},
   "outputs": [],
   "source": [
    "\n",
    "ax, fig = plt.subplots(3, 3, figsize=(20, 20))\n",
    "\n",
    "image_1 = tiff.imread(os.path.join(grouped_paths[0][-1], 'max.tif'))\n",
    "image_1 = ffc.corrected_image(image_1, ffc.DARKFIELD, ffc.FLATFIELDARRAY)\n",
    "image_2 = tiff.imread(os.path.join(grouped_paths[0][-2], 'max.tif'))\n",
    "image_2 = ffc.corrected_image(image_2, ffc.DARKFIELD, ffc.FLATFIELDARRAY)\n",
    "image_3 = tiff.imread(os.path.join(grouped_paths[0][-3], 'max.tif'))\n",
    "image_3 = ffc.corrected_image(image_3, ffc.DARKFIELD, ffc.FLATFIELDARRAY)\n",
    "\n",
    "fig[0, 0].imshow(image_1)\n",
    "fig[0, 1].imshow(image_2)\n",
    "fig[0, 2].imshow(image_3)\n",
    "\n",
    "images = [image_1, image_2, image_3]\n",
    "\n",
    "image_1_2 = tiff.imread(os.path.join(grouped_paths[3][-3], 'max.tif'))\n",
    "image_1_2 = ffc.corrected_image(image_1_2, ffc.DARKFIELD, ffc.FLATFIELDARRAY)\n",
    "image_2_2 = tiff.imread(os.path.join(grouped_paths[3][-2], 'max.tif'))\n",
    "image_2_2 = ffc.corrected_image(image_2_2, ffc.DARKFIELD, ffc.FLATFIELDARRAY)\n",
    "image_3_2 = tiff.imread(os.path.join(grouped_paths[3][-1], 'max.tif'))\n",
    "image_3_2 = ffc.corrected_image(image_3_2, ffc.DARKFIELD, ffc.FLATFIELDARRAY)\n",
    "\n",
    "fig[1, 0].imshow(image_3_2)\n",
    "fig[1, 1].imshow(image_2_2)\n",
    "fig[1, 2].imshow(image_1_2)\n",
    "\n",
    "images2 = [image_1_2, image_2_2, image_3_2]\n",
    "\n",
    "image_1_3 = tiff.imread(os.path.join(grouped_paths[6][-1], 'max.tif'))\n",
    "image_1_3 = ffc.corrected_image(image_1_3, ffc.DARKFIELD, ffc.FLATFIELDARRAY)\n",
    "image_2_3 = tiff.imread(os.path.join(grouped_paths[6][-2], 'max.tif'))\n",
    "image_2_3 = ffc.corrected_image(image_2_3, ffc.DARKFIELD, ffc.FLATFIELDARRAY)\n",
    "image_3_3 = tiff.imread(os.path.join(grouped_paths[6][-3], 'max.tif'))\n",
    "image_3_3 = ffc.corrected_image(image_3_3, ffc.DARKFIELD, ffc.FLATFIELDARRAY)\n",
    "\n",
    "fig[2, 0].imshow(image_1_3)\n",
    "fig[2, 1].imshow(image_2_3)\n",
    "fig[2, 2].imshow(image_3_3)\n",
    "\n",
    "images3 = [image_1_3, image_2_3, image_3_3]\n",
    "\n",
    "images_total = [images, images2, images3]\n",
    "\n",
    "plt.show()\n",
    "\n",
    "result = st.stitch_tile(images_total, stiching_parameters, dpi=300, cmap='turbo', figsize=(10, 10))\n",
    "plt.figure(figsize=(20, 20))\n",
    "plt.imshow(result, cmap='turbo')\n",
    "plt.colorbar()\n",
    "plt.show()\n",
    "\n",
    "plt.figure(figsize=(20, 20))\n",
    "plt.imshow(result[result > 50], cmap='turbo')\n",
    "plt.colorbar()\n",
    "plt.show()"
   ]
  },
  {
   "cell_type": "code",
   "execution_count": null,
   "metadata": {},
   "outputs": [],
   "source": [
    "\n",
    "plt.figure(figsize=(5, 5), dpi=100)\n",
    "plt.imshow(image_1, cmap='turbo')\n",
    "plt.show()\n",
    "\n",
    "plt.figure(figsize=(5, 5), dpi=100)\n",
    "plt.imshow(result, cmap='turbo')\n",
    "plt.show()"
   ]
  },
  {
   "cell_type": "code",
   "execution_count": null,
   "metadata": {},
   "outputs": [],
   "source": [
    "\n",
    "for image in grouped_paths[0][::-1]:\n",
    "    image = tiff.imread(os.path.join(image, 'max.tif'))\n",
    "    plt.figure(dpi=300)\n",
    "    plt.imshow(image)\n",
    "    plt.show()\n",
    "\n"
   ]
  },
  {
   "cell_type": "code",
   "execution_count": null,
   "metadata": {},
   "outputs": [],
   "source": [
    "from stitching import AffineStitcher\n",
    "settings = {# The whole plan should be considered\n",
    "            \"crop\": False,\n",
    "            # The matches confidences aren't that good\n",
    "            \"confidence_threshold\": 0.5}  \n",
    "stitcher = AffineStitcher(**settings)\n"
   ]
  },
  {
   "cell_type": "code",
   "execution_count": null,
   "metadata": {},
   "outputs": [],
   "source": [
    "arrays = []\n",
    "ax, fig = plt.subplots(1, 2, dpi=300)\n",
    "for i, path in enumerate(grouped_paths[0][::-1][0:2]):\n",
    "    img = tiff.imread(os.path.join(path, 'max.tif'))\n",
    "    fig[i].imshow(img)\n",
    "\n",
    "    converted_image = cv2.normalize(img, None, 0, 255, cv2.NORM_MINMAX).astype('uint8')\n",
    "    # save converted_image\n",
    "    tiff.imwrite(os.path.join(path, 'converted_image.tif'), converted_image)\n",
    "    arrays.append(os.path.join(path, 'converted_image.tif'))\n",
    "\n",
    "plt.figure(dpi=300)\n",
    "panorama = stitcher.stitch(arrays)\n",
    "plt.imshow(panorama[:, :, 0], cmap='turbo')\n",
    "plt.colorbar()\n"
   ]
  },
  {
   "cell_type": "code",
   "execution_count": null,
   "metadata": {},
   "outputs": [],
   "source": [
    "\n",
    "arrays = []\n",
    "ax, fig = plt.subplots(1, 2, dpi=300)\n",
    "for i, path in enumerate(grouped_paths[0][::-1][1:3]):\n",
    "    img = tiff.imread(os.path.join(path, 'max.tif'))\n",
    "    fig[i].imshow(img, cmap='turbo')\n",
    "\n",
    "    converted_image = cv2.normalize(img, None, 0, 255, cv2.NORM_MINMAX).astype('uint8')\n",
    "    # save converted_image\n",
    "    tiff.imwrite(os.path.join(path, 'converted_image.tif'), converted_image)\n",
    "    arrays.append(os.path.join(path, 'converted_image.tif'))\n",
    "\n",
    "plt.figure(dpi=300)\n",
    "panorama = stitcher.stitch(arrays)\n",
    "plt.imshow(panorama[:, :, 0], cmap='turbo')\n",
    "\n",
    "    "
   ]
  },
  {
   "cell_type": "code",
   "execution_count": null,
   "metadata": {},
   "outputs": [],
   "source": []
  },
  {
   "cell_type": "code",
   "execution_count": null,
   "metadata": {},
   "outputs": [],
   "source": []
  },
  {
   "cell_type": "code",
   "execution_count": null,
   "metadata": {},
   "outputs": [],
   "source": []
  },
  {
   "cell_type": "code",
   "execution_count": null,
   "metadata": {},
   "outputs": [],
   "source": []
  },
  {
   "cell_type": "code",
   "execution_count": null,
   "metadata": {},
   "outputs": [],
   "source": []
  },
  {
   "cell_type": "code",
   "execution_count": null,
   "metadata": {},
   "outputs": [],
   "source": []
  },
  {
   "cell_type": "code",
   "execution_count": null,
   "metadata": {},
   "outputs": [],
   "source": []
  },
  {
   "cell_type": "code",
   "execution_count": null,
   "metadata": {},
   "outputs": [],
   "source": []
  },
  {
   "cell_type": "code",
   "execution_count": null,
   "metadata": {},
   "outputs": [],
   "source": []
  },
  {
   "cell_type": "code",
   "execution_count": null,
   "metadata": {},
   "outputs": [],
   "source": []
  },
  {
   "cell_type": "code",
   "execution_count": null,
   "metadata": {},
   "outputs": [],
   "source": []
  },
  {
   "cell_type": "code",
   "execution_count": null,
   "metadata": {},
   "outputs": [],
   "source": []
  },
  {
   "cell_type": "code",
   "execution_count": null,
   "metadata": {},
   "outputs": [],
   "source": []
  },
  {
   "cell_type": "code",
   "execution_count": null,
   "metadata": {},
   "outputs": [],
   "source": []
  },
  {
   "cell_type": "code",
   "execution_count": null,
   "metadata": {},
   "outputs": [],
   "source": []
  },
  {
   "cell_type": "code",
   "execution_count": null,
   "metadata": {},
   "outputs": [],
   "source": []
  },
  {
   "cell_type": "code",
   "execution_count": null,
   "metadata": {},
   "outputs": [],
   "source": []
  },
  {
   "cell_type": "code",
   "execution_count": null,
   "metadata": {},
   "outputs": [],
   "source": []
  },
  {
   "cell_type": "code",
   "execution_count": null,
   "metadata": {},
   "outputs": [],
   "source": []
  },
  {
   "cell_type": "code",
   "execution_count": null,
   "metadata": {},
   "outputs": [],
   "source": []
  },
  {
   "cell_type": "code",
   "execution_count": null,
   "metadata": {},
   "outputs": [],
   "source": []
  },
  {
   "cell_type": "code",
   "execution_count": null,
   "metadata": {},
   "outputs": [],
   "source": []
  },
  {
   "cell_type": "code",
   "execution_count": null,
   "metadata": {},
   "outputs": [],
   "source": []
  },
  {
   "cell_type": "code",
   "execution_count": null,
   "metadata": {},
   "outputs": [],
   "source": []
  },
  {
   "cell_type": "code",
   "execution_count": null,
   "metadata": {},
   "outputs": [],
   "source": []
  },
  {
   "cell_type": "code",
   "execution_count": null,
   "metadata": {},
   "outputs": [],
   "source": []
  },
  {
   "cell_type": "code",
   "execution_count": null,
   "metadata": {},
   "outputs": [],
   "source": []
  },
  {
   "cell_type": "code",
   "execution_count": null,
   "metadata": {},
   "outputs": [],
   "source": []
  },
  {
   "cell_type": "code",
   "execution_count": null,
   "metadata": {},
   "outputs": [],
   "source": []
  },
  {
   "cell_type": "code",
   "execution_count": null,
   "metadata": {},
   "outputs": [],
   "source": []
  },
  {
   "cell_type": "code",
   "execution_count": null,
   "metadata": {},
   "outputs": [],
   "source": [
    "import os\n",
    "for i, image in enumerate(images):\n",
    "    channel_1 = image[:,:,0]\n",
    "    #save channel_1 to folder called channel_1\n",
    "\n",
    "    # channel_2 = image[:,:,1]\n",
    "    # #save channel_2 to folder called channel_2\n",
    "    os.makedirs(r'Y:\\Projects\\piescope\\piescope_dev\\tile\\channel_1\\\\', exist_ok=True)\n",
    "    tf.imsave(r'Y:\\Projects\\piescope\\piescope_dev\\tile\\channel_1\\\\' + str(i) + '.tif', channel_1)"
   ]
  },
  {
   "cell_type": "code",
   "execution_count": null,
   "metadata": {},
   "outputs": [],
   "source": [
    "im = tf.imread(r'Y:\\Projects\\piescope\\piescope_dev\\tile\\channel_1\\0.tif')"
   ]
  },
  {
   "cell_type": "code",
   "execution_count": null,
   "metadata": {},
   "outputs": [],
   "source": [
    "image8bit = cv2.normalize(im, None, 0, 255, cv2.NORM_MINMAX).astype('uint8')\n",
    "cv2.imwrite(r'Y:\\Projects\\piescope\\piescope_dev\\tile\\channel_1\\0_8bit.tif', image8bit)"
   ]
  },
  {
   "cell_type": "code",
   "execution_count": null,
   "metadata": {},
   "outputs": [],
   "source": []
  },
  {
   "cell_type": "code",
   "execution_count": null,
   "metadata": {},
   "outputs": [],
   "source": [
    "print(im.shape)\n",
    "descriptor = cv2.SIFT_create()\n",
    "# matcher = cv2.BFMatcher(cv2.NORM_L2, crossCheck=True)\n",
    "\n",
    "keypoints, descriptors = descriptor.detectAndCompute(image8bit, None)\n",
    "\n",
    "# def get_matches(descriptors1, descriptors2):\n",
    "#     return matcher.match(descriptors1, descriptors2)\n",
    "\n"
   ]
  },
  {
   "cell_type": "code",
   "execution_count": null,
   "metadata": {},
   "outputs": [],
   "source": [
    "print(keypoints)"
   ]
  },
  {
   "cell_type": "code",
   "execution_count": null,
   "metadata": {},
   "outputs": [],
   "source": [
    "plt.imshow(image8bit)\n",
    "# plot keypoints\n",
    "plt.scatter([p.pt[0] for p in keypoints], [p.pt[1] for p in keypoints], c='r', marker='.')\n",
    "plt.show()\n"
   ]
  },
  {
   "cell_type": "code",
   "execution_count": null,
   "metadata": {},
   "outputs": [],
   "source": [
    "im2 = tf.imread(r'Y:\\Projects\\piescope\\piescope_dev\\tile\\channel_1\\1.tif')\n"
   ]
  },
  {
   "cell_type": "code",
   "execution_count": null,
   "metadata": {},
   "outputs": [],
   "source": [
    "image8bit2 = cv2.normalize(im2, None, 0, 255, cv2.NORM_MINMAX).astype('uint8')\n",
    "cv2.imwrite(r'Y:\\Projects\\piescope\\piescope_dev\\tile\\channel_1\\1_8bit.tif', image8bit2)"
   ]
  },
  {
   "cell_type": "code",
   "execution_count": null,
   "metadata": {},
   "outputs": [],
   "source": [
    "descriptor2 = cv2.SIFT_create()\n",
    "# matcher = cv2.BFMatcher(cv2.NORM_L2, crossCheck=True)\n",
    "\n",
    "keypoints2, descriptors2 = descriptor2.detectAndCompute(image8bit2, None)\n"
   ]
  },
  {
   "cell_type": "code",
   "execution_count": null,
   "metadata": {},
   "outputs": [],
   "source": [
    "plt.imshow(image8bit2)\n",
    "# plot keypoints\n",
    "plt.scatter([p.pt[0] for p in keypoints2], [p.pt[1] for p in keypoints2], c='r', marker='.')\n",
    "plt.show()\n"
   ]
  },
  {
   "cell_type": "code",
   "execution_count": null,
   "metadata": {},
   "outputs": [],
   "source": [
    "stitcher = cv2.Stitcher_create()\n",
    "status, stitched = stitcher.stitch([r'Y:\\Projects\\piescope\\piescope_dev\\tile\\channel_1\\0_8bit.tif', r'Y:\\Projects\\piescope\\piescope_dev\\tile\\channel_1\\1_8bit.tif'], masks=None)\n"
   ]
  },
  {
   "cell_type": "code",
   "execution_count": null,
   "metadata": {},
   "outputs": [],
   "source": [
    "bf = cv2.BFMatcher(cv2.NORM_L2, crossCheck=True)\n",
    "matches = bf.match(descriptors,descriptors2)\n",
    "matches = sorted(matches, key = lambda x:x.distance)\n",
    "\n",
    "print(matches)"
   ]
  },
  {
   "cell_type": "code",
   "execution_count": null,
   "metadata": {},
   "outputs": [],
   "source": [
    "img3 = cv2.drawMatches(image8bit,keypoints,image8bit2,keypoints2,matches[:10],None, flags=2)\n",
    "plt.imshow(img3),\n",
    "plt.show()\n",
    "\n"
   ]
  },
  {
   "cell_type": "code",
   "execution_count": null,
   "metadata": {},
   "outputs": [],
   "source": [
    "# plot shifted image\n",
    "plt.imshow(image8bit2)"
   ]
  },
  {
   "cell_type": "code",
   "execution_count": null,
   "metadata": {},
   "outputs": [],
   "source": [
    "(H, status) = cv2.findHomography(pts1, pts2, cv.RANSAC)"
   ]
  },
  {
   "cell_type": "code",
   "execution_count": null,
   "metadata": {},
   "outputs": [],
   "source": []
  },
  {
   "cell_type": "code",
   "execution_count": null,
   "metadata": {},
   "outputs": [],
   "source": []
  },
  {
   "cell_type": "code",
   "execution_count": null,
   "metadata": {},
   "outputs": [],
   "source": []
  },
  {
   "cell_type": "code",
   "execution_count": null,
   "metadata": {},
   "outputs": [],
   "source": []
  },
  {
   "cell_type": "code",
   "execution_count": null,
   "metadata": {},
   "outputs": [],
   "source": []
  },
  {
   "cell_type": "code",
   "execution_count": null,
   "metadata": {},
   "outputs": [],
   "source": []
  },
  {
   "cell_type": "code",
   "execution_count": null,
   "metadata": {},
   "outputs": [],
   "source": [
    "from stitch2d import create_mosaic, StructuredMosaic"
   ]
  },
  {
   "cell_type": "code",
   "execution_count": null,
   "metadata": {},
   "outputs": [],
   "source": [
    "path = r\"Y:\\Projects\\piescope\\piescope_dev\\tile\""
   ]
  },
  {
   "cell_type": "code",
   "execution_count": null,
   "metadata": {},
   "outputs": [],
   "source": [
    "structured_mosaic = StructuredMosaic(path, dim=(3, 3))"
   ]
  },
  {
   "cell_type": "code",
   "execution_count": null,
   "metadata": {},
   "outputs": [],
   "source": [
    "from stitching import AffineStitcher"
   ]
  },
  {
   "cell_type": "code",
   "execution_count": null,
   "metadata": {},
   "outputs": [],
   "source": [
    "print(AffineStitcher.AFFINE_DEFAULTS)"
   ]
  },
  {
   "cell_type": "code",
   "execution_count": null,
   "metadata": {},
   "outputs": [],
   "source": [
    "settings = {# The whole plan should be considered\n",
    "            \"crop\": False,\n",
    "            # The matches confidences aren't that good\n",
    "            \"confidence_threshold\": 0.5}  "
   ]
  },
  {
   "cell_type": "code",
   "execution_count": null,
   "metadata": {},
   "outputs": [],
   "source": [
    "stitcher = AffineStitcher(**settings)"
   ]
  },
  {
   "cell_type": "code",
   "execution_count": null,
   "metadata": {},
   "outputs": [],
   "source": [
    "panorama = stitcher.stitch([r'Y:\\Projects\\piescope\\piescope_dev\\tile\\channel_1\\0_8bit.tif',r'Y:\\Projects\\piescope\\piescope_dev\\tile\\channel_1\\1_8bit.tif'])"
   ]
  },
  {
   "cell_type": "code",
   "execution_count": null,
   "metadata": {},
   "outputs": [],
   "source": [
    "plt.imshow(panorama)\n",
    "plt.show()\n"
   ]
  },
  {
   "cell_type": "code",
   "execution_count": null,
   "metadata": {},
   "outputs": [],
   "source": [
    "plt.imshow(image8bit)\n",
    "plt.show()"
   ]
  },
  {
   "cell_type": "code",
   "execution_count": null,
   "metadata": {},
   "outputs": [],
   "source": [
    "plt.imshow(image8bit2)"
   ]
  },
  {
   "cell_type": "code",
   "execution_count": null,
   "metadata": {},
   "outputs": [],
   "source": [
    "image_list = glob(r'Y:\\Projects\\piescope\\piescope_dev\\tile\\channel_1\\*.tif')"
   ]
  },
  {
   "cell_type": "code",
   "execution_count": null,
   "metadata": {},
   "outputs": [],
   "source": [
    "for i in image_list:\n",
    "    array = tf.imread(i)\n",
    "    image8bit = cv2.normalize(array, None, 0, 255, cv2.NORM_MINMAX).astype('uint8')\n",
    "    cv2.imwrite(i[:-4] + '_8bit.tif', image8bit)"
   ]
  },
  {
   "cell_type": "code",
   "execution_count": null,
   "metadata": {},
   "outputs": [],
   "source": [
    "image_8bit_list = glob(r'Y:\\Projects\\piescope\\piescope_dev\\tile\\channel_1\\*_8bit.tif')\n"
   ]
  },
  {
   "cell_type": "code",
   "execution_count": null,
   "metadata": {},
   "outputs": [],
   "source": []
  },
  {
   "cell_type": "code",
   "execution_count": null,
   "metadata": {},
   "outputs": [],
   "source": [
    "panorama_8bit = stitcher.stitch(image_8bit_list)\n"
   ]
  },
  {
   "cell_type": "code",
   "execution_count": null,
   "metadata": {},
   "outputs": [],
   "source": [
    "panorama_8bit.shape"
   ]
  },
  {
   "cell_type": "code",
   "execution_count": null,
   "metadata": {},
   "outputs": [],
   "source": [
    "plt.imshow(np.log(panorama_8bit[:, :, 0]), cmap='turbo')\n",
    "plt.colorbar()\n",
    "plt.show()"
   ]
  },
  {
   "cell_type": "code",
   "execution_count": null,
   "metadata": {},
   "outputs": [],
   "source": [
    "nimages = []\n",
    "for i in image_8bit_list:\n",
    "    im = tf.imread(i)\n",
    "    images.append(im)"
   ]
  },
  {
   "cell_type": "code",
   "execution_count": null,
   "metadata": {},
   "outputs": [],
   "source": [
    "fig, ax = plt.subplots(3, 3, figsize=(20, 20))\n",
    "\n",
    "# plot 9 images on a 3x3 grid with only the index of the image\n",
    "for i, image in enumerate(images):\n",
    "    ax[i // 3, i % 3].imshow(image)\n",
    "    ax[i // 3, i % 3].set_title(i)\n",
    "    ax[i // 3, i % 3].axis('off')\n",
    "    \n"
   ]
  },
  {
   "cell_type": "code",
   "execution_count": null,
   "metadata": {},
   "outputs": [],
   "source": [
    "# split images into 3 smaller subset arrays\n",
    "images1 = image_8bit_list[:3]\n",
    "images2 = image_8bit_list[3:6]\n",
    "images3 = image_8bit_list[6:9]\n"
   ]
  },
  {
   "cell_type": "code",
   "execution_count": null,
   "metadata": {},
   "outputs": [],
   "source": [
    "panorama_8bit1 = stitcher.stitch(images1)\n",
    "panorama_8bit2 = stitcher.stitch(images2)\n",
    "panorama_8bit3 = stitcher.stitch(images3)\n"
   ]
  },
  {
   "cell_type": "code",
   "execution_count": null,
   "metadata": {},
   "outputs": [],
   "source": [
    "plt.imshow(panorama_8bit1)"
   ]
  },
  {
   "cell_type": "code",
   "execution_count": null,
   "metadata": {},
   "outputs": [],
   "source": [
    "plt.imshow(panorama_8bit2)"
   ]
  },
  {
   "cell_type": "code",
   "execution_count": null,
   "metadata": {},
   "outputs": [],
   "source": [
    "plt.imshow(panorama_8bit3)"
   ]
  },
  {
   "cell_type": "code",
   "execution_count": null,
   "metadata": {},
   "outputs": [],
   "source": [
    "# save the 3 panorama\n",
    "cv2.imwrite(r'Y:\\Projects\\piescope\\piescope_dev\\tile\\channel_1\\panorama_8bit1.tif', panorama_8bit1)\n",
    "cv2.imwrite(r'Y:\\Projects\\piescope\\piescope_dev\\tile\\channel_1\\panorama_8bit2.tif', panorama_8bit2)\n",
    "cv2.imwrite(r'Y:\\Projects\\piescope\\piescope_dev\\tile\\channel_1\\panorama_8bit3.tif', panorama_8bit3)\n"
   ]
  },
  {
   "cell_type": "code",
   "execution_count": null,
   "metadata": {},
   "outputs": [],
   "source": [
    "# rotate the panoramas by 90 degrees\n",
    "panorama_8bit1_rot = np.rot90(panorama_8bit1)\n",
    "panorama_8bit2_rot = np.rot90(panorama_8bit2)\n",
    "panorama_8bit3_rot = np.rot90(panorama_8bit3)\n",
    "\n",
    "# save the rotated panoramas\n",
    "cv2.imwrite(r'Y:\\Projects\\piescope\\piescope_dev\\tile\\channel_1\\panorama_8bit1_rot.tif', panorama_8bit1_rot)\n",
    "cv2.imwrite(r'Y:\\Projects\\piescope\\piescope_dev\\tile\\channel_1\\panorama_8bit2_rot.tif', panorama_8bit2_rot)\n",
    "cv2.imwrite(r'Y:\\Projects\\piescope\\piescope_dev\\tile\\channel_1\\panorama_8bit3_rot.tif', panorama_8bit3_rot)\n"
   ]
  },
  {
   "cell_type": "code",
   "execution_count": null,
   "metadata": {},
   "outputs": [],
   "source": [
    "panorama_rotated_left = stitcher.stitch([r'Y:\\Projects\\piescope\\piescope_dev\\tile\\channel_1\\panorama_8bit3_rot.tif', r'Y:\\Projects\\piescope\\piescope_dev\\tile\\channel_1\\panorama_8bit2_rot.tif'])\n",
    "panorama_rotated_right = stitcher.stitch([r'Y:\\Projects\\piescope\\piescope_dev\\tile\\channel_1\\panorama_8bit2_rot.tif', r'Y:\\Projects\\piescope\\piescope_dev\\tile\\channel_1\\panorama_8bit1_rot.tif'])"
   ]
  },
  {
   "cell_type": "code",
   "execution_count": null,
   "metadata": {},
   "outputs": [],
   "source": [
    "plt.imshow(panorama_8bit3_rot)\n",
    "plt.show()\n",
    "\n",
    "plt.imshow(panorama_8bit2_rot)\n",
    "plt.show()\n",
    "\n",
    "plt.imshow(panorama_8bit1_rot)\n",
    "plt.show()"
   ]
  },
  {
   "cell_type": "code",
   "execution_count": null,
   "metadata": {},
   "outputs": [],
   "source": [
    "plt.imshow(panorama_rotated_right)\n",
    "plt.show()"
   ]
  },
  {
   "cell_type": "code",
   "execution_count": null,
   "metadata": {},
   "outputs": [],
   "source": [
    "cv2.imwrite(r'Y:\\Projects\\piescope\\piescope_dev\\tile\\channel_1\\panorama_rotated_right.tif', panorama_rotated_right)"
   ]
  },
  {
   "cell_type": "code",
   "execution_count": null,
   "metadata": {},
   "outputs": [],
   "source": [
    "panorama_final = stitcher.stitch([r'Y:\\Projects\\piescope\\piescope_dev\\tile\\channel_1\\panorama_8bit3_rot.tif', r'Y:\\Projects\\piescope\\piescope_dev\\tile\\channel_1\\panorama_rotated_right.tif'])"
   ]
  },
  {
   "cell_type": "code",
   "execution_count": null,
   "metadata": {},
   "outputs": [],
   "source": [
    "plt.imshow(panorama_final)"
   ]
  },
  {
   "cell_type": "code",
   "execution_count": null,
   "metadata": {},
   "outputs": [],
   "source": [
    "# rotate the final panorama by -90 degrees\n",
    "panorama_final_rot = np.rot90(panorama_final, k=-1)\n",
    "\n"
   ]
  },
  {
   "cell_type": "code",
   "execution_count": null,
   "metadata": {},
   "outputs": [],
   "source": [
    "plt.imshow(panorama_final_rot)"
   ]
  },
  {
   "cell_type": "code",
   "execution_count": null,
   "metadata": {},
   "outputs": [],
   "source": []
  }
 ],
 "metadata": {
  "kernelspec": {
   "display_name": "wavelets",
   "language": "python",
   "name": "python3"
  },
  "language_info": {
   "codemirror_mode": {
    "name": "ipython",
    "version": 3
   },
   "file_extension": ".py",
   "mimetype": "text/x-python",
   "name": "python",
   "nbconvert_exporter": "python",
   "pygments_lexer": "ipython3",
   "version": "3.9.16"
  },
  "orig_nbformat": 4
 },
 "nbformat": 4,
 "nbformat_minor": 2
}
