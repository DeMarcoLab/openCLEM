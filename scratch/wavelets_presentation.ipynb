{
 "cells": [
  {
   "cell_type": "code",
   "execution_count": null,
   "metadata": {},
   "outputs": [],
   "source": [
    "%load_ext autoreload\n",
    "%autoreload 2\n",
    "\n",
    "import tifffile as tf \n",
    "from openclem import wavelet_transforms\n",
    "import numpy as np\n",
    "import matplotlib.pyplot as plt"
   ]
  },
  {
   "cell_type": "code",
   "execution_count": null,
   "metadata": {},
   "outputs": [],
   "source": [
    "image = tf.imread(r\"C:\\Users\\User\\Downloads\\screenshot_9_488.tif\").astype(np.float32)\n",
    "# image = tf.imread(r\"C:\\Users\\User\\Downloads\\pairsbeforeeb.tif\").astype(np.float32)\n",
    "# image = image[:, :, 0]\n",
    "# image = image[:1024, :1024]\n",
    "plt.imshow(image)"
   ]
  },
  {
   "cell_type": "code",
   "execution_count": null,
   "metadata": {},
   "outputs": [],
   "source": [
    "wavelet = 'db1'\n",
    "for wavelet in ['db4']:\n",
    "# for wavelet in ['db1', 'db2', 'db3', 'db4', 'db5', 'db6', 'db7', 'db8', 'db9', 'db10', 'db11', 'db12', 'db13', 'db14', 'db15', 'db16', 'db17', 'db18', 'db19', 'db20']:\n",
    "    level = 5\n",
    "    coeffs = wavelet_transforms.wavelet_transform(image, wavelet, level, mode='periodization')\n",
    "    wavelet_transforms.plot_wavelet_coeffs(coeffs, cmap=\"turbo\", figsize=(15, 20), combined=True)\n",
    "    # wavelet_transforms.plot_combined_wavelet_coeffs_only(coeffs, cmap=\"turbo\", figsize=(15, 10))"
   ]
  },
  {
   "cell_type": "code",
   "execution_count": null,
   "metadata": {},
   "outputs": [],
   "source": [
    "fib_image = tf.imread(r\"C:\\Users\\Dadie1\\Downloads\\drive-download-20230504T015844Z-001\\Ruby_scells280423\\Rubyscellsfib280423\\pairsbeforeeb.tif\")\n",
    "fib_image = fib_image[:-100, :, 0]\n",
    "\n",
    "# apply median filter\n",
    "from scipy.ndimage import median_filter\n",
    "# fib_image = median_filter(fib_image, size=3)\n"
   ]
  },
  {
   "cell_type": "code",
   "execution_count": null,
   "metadata": {},
   "outputs": [],
   "source": [
    "wavelet = 'db3'\n",
    "level = 5\n",
    "coeffs_fib = wavelet_transforms.wavelet_transform(fib_image, wavelet, level)\n",
    "wavelet_transforms.plot_combined_wavelet_coeffs_only(coeffs_fib, cmap=\"gray\", figsize=(15, 25))"
   ]
  },
  {
   "cell_type": "code",
   "execution_count": null,
   "metadata": {},
   "outputs": [],
   "source": [
    "for wavelet in ['db11', 'db12', 'db13', 'db14', 'db15', 'db16', 'db17', 'db18', 'db19', 'db20',]:\n",
    "    # wavelet = 'db1'\n",
    "    level = 2\n",
    "    coeffs_fib = wavelet_transforms.wavelet_transform(fib_image, wavelet, level, mode=\"periodic\")\n",
    "    wavelet_transforms.plot_combined_wavelet_coeffs_only(coeffs_fib, cmap=\"jet\", figsize=(15, 25))\n"
   ]
  },
  {
   "cell_type": "code",
   "execution_count": null,
   "metadata": {},
   "outputs": [],
   "source": [
    "wavelet = 'db1'\n",
    "level = 2\n",
    "coeffs_fib = wavelet_transforms.wavelet_transform(fib_image, wavelet, level, mode=\"periodic\")"
   ]
  },
  {
   "cell_type": "code",
   "execution_count": null,
   "metadata": {},
   "outputs": [],
   "source": [
    "wavelet_transforms.plot_combined_wavelet_coeffs_only(coeffs_fib, cmap=\"jet\", figsize=(15, 25))\n",
    "\n",
    "# new_coeffs = np.sqrt(coeffs_fib[1][0]**2 +  coeffs_fib[1][1]**2 + coeffs_fib[1][2]**2)\n",
    "# plt.imshow(new_coeffs, cmap='jet')\n",
    "# plt.show()\n",
    "# new_coeffs = np.sqrt(coeffs_fib[2][0]**2 +  coeffs_fib[2][1]**2 + coeffs_fib[2][2]**2)\n",
    "# plt.imshow(new_coeffs, cmap='jet')\n",
    "# plt.show()\n",
    "# new_coeffs = np.sqrt(coeffs_fib[3][0]**2 +  coeffs_fib[3][1]**2 + coeffs_fib[3][2]**2)\n",
    "# plt.imshow(new_coeffs, cmap='jet')"
   ]
  },
  {
   "cell_type": "code",
   "execution_count": null,
   "metadata": {},
   "outputs": [],
   "source": [
    "import matplotlib.pyplot as plt\n",
    "plt.imshow(fib_image)\n",
    "plt.figure()\n"
   ]
  },
  {
   "cell_type": "code",
   "execution_count": null,
   "metadata": {},
   "outputs": [],
   "source": [
    "# overlay new_coeffs on top of fib image\n",
    "\n",
    "plt.imshow(fib_image, cmap='gray', alpha=1)\n",
    "# plt.imshow(new_coeffs, cmap='jet', alpha=0.2)\n"
   ]
  },
  {
   "cell_type": "markdown",
   "metadata": {},
   "source": []
  }
 ],
 "metadata": {
  "kernelspec": {
   "display_name": "wavelets",
   "language": "python",
   "name": "python3"
  },
  "language_info": {
   "codemirror_mode": {
    "name": "ipython",
    "version": 3
   },
   "file_extension": ".py",
   "mimetype": "text/x-python",
   "name": "python",
   "nbconvert_exporter": "python",
   "pygments_lexer": "ipython3",
   "version": "3.9.16"
  },
  "orig_nbformat": 4
 },
 "nbformat": 4,
 "nbformat_minor": 2
}
