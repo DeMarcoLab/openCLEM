{
 "cells": [
  {
   "cell_type": "code",
   "execution_count": null,
   "metadata": {},
   "outputs": [],
   "source": [
    "import numpy as np\n",
    "from scipy.fftpack import fftfreq"
   ]
  },
  {
   "cell_type": "code",
   "execution_count": null,
   "metadata": {},
   "outputs": [],
   "source": [
    "a = [0, 0.2, 0.4, 0.6, 0.8]\n",
    "b = fftfreq(10, d=1/5)\n",
    "c = fftfreq(len(a), d=1)"
   ]
  },
  {
   "cell_type": "code",
   "execution_count": null,
   "metadata": {},
   "outputs": [],
   "source": [
    "print(b)\n",
    "print(c)"
   ]
  },
  {
   "cell_type": "code",
   "execution_count": null,
   "metadata": {},
   "outputs": [],
   "source": [
    "a = 5\n",
    "print(fftfreq(10, d=0.1))"
   ]
  },
  {
   "cell_type": "code",
   "execution_count": null,
   "metadata": {},
   "outputs": [],
   "source": [
    "from scipy.ndimage import median_filter, gaussian_filter"
   ]
  },
  {
   "cell_type": "code",
   "execution_count": null,
   "metadata": {},
   "outputs": [],
   "source": [
    "import numpy as np\n",
    "import cv2\n",
    "import tifffile as tf\n",
    "import matplotlib.pyplot as plt\n",
    "\n",
    "# Load the image\n",
    "image = tf.imread(r'C:\\Users\\User\\Github\\openCLEM\\scratch\\IB_2000.tif')#.astype(np.float16)  # Read the image in grayscale\n",
    "print(image.dtype)\n",
    "plt.figure(dpi=300)\n",
    "plt.imshow(image[0:image.shape[0]//6, 0:image.shape[1]//6])\n",
    "plt.colorbar()\n",
    "plt.show()\n",
    "\n",
    "plt.figure(dpi=300)\n",
    "plt.imshow(gaussian_filter(image[0:image.shape[0]//6, 0:image.shape[1]//6], 1))\n",
    "plt.colorbar()\n",
    "plt.show()\n"
   ]
  },
  {
   "cell_type": "code",
   "execution_count": null,
   "metadata": {},
   "outputs": [],
   "source": [
    "\n",
    "# Compute the 2D Fourier transform\n",
    "fft = np.fft.fft2(image)\n",
    "n=5\n",
    "# Pad the Fourier transform\n",
    "pad_rows = (n * image.shape[0])//2  # Double the number of rows\n",
    "pad_cols = (n * image.shape[1])//2  # Double the number of columns\n",
    "padded_fft = np.pad(fft, ((pad_rows, pad_rows), (pad_cols, pad_cols)), mode='constant', constant_values=0)\n",
    "\n",
    "# Perform the inverse Fourier transform\n",
    "padded_image = np.fft.ifft2(padded_fft)\n",
    "\n",
    "# Take the magnitude of the complex result\n",
    "padded_image = np.abs(padded_image)\n",
    "\n",
    "# Convert the result to uint8 for visualization\n",
    "# padded_image = np.uint8(padded_image)\n",
    "\n",
    "# Display the original image and the padded image\n",
    "# plt.imshow(image)\n",
    "# plt.colorbar()\n",
    "# plt.show()\n",
    "plt.figure(dpi=300)\n",
    "plt.imshow(padded_image[0:image.shape[0], 0:image.shape[1]])\n",
    "plt.colorbar()\n",
    "plt.show()\n",
    "# plt.imshow(padded_image)\n",
    "# plt.colorbar()"
   ]
  },
  {
   "cell_type": "code",
   "execution_count": null,
   "metadata": {},
   "outputs": [],
   "source": [
    "\n",
    "plt.figure(dpi=300)\n",
    "plt.imshow(median_filter(padded_image[0:image.shape[0], 0:image.shape[1]], 3))\n",
    "plt.colorbar()\n",
    "plt.show()\n",
    "\n",
    "plt.figure(dpi=300)\n",
    "plt.imshow(gaussian_filter(padded_image[0:image.shape[0], 0:image.shape[1]], 3))\n",
    "plt.colorbar()\n",
    "plt.show()\n",
    "\n",
    "plt.figure(dpi=300)\n",
    "plt.imshow(gaussian_filter(padded_image[0:image.shape[0], 0:image.shape[1]], 5))\n",
    "plt.colorbar()\n",
    "plt.show()\n",
    "\n",
    "\n"
   ]
  },
  {
   "cell_type": "code",
   "execution_count": null,
   "metadata": {},
   "outputs": [],
   "source": [
    "print(padded_image.shape[0]/image.shape[0])"
   ]
  },
  {
   "cell_type": "code",
   "execution_count": null,
   "metadata": {},
   "outputs": [],
   "source": [
    "image = tf.imread(r\"C:\\Users\\User\\Documents\\15-06-23 - Cells\\ib_1__5.tif\").astype(np.float32)\n",
    "plt.figure(dpi=200, figsize=(5, 5))\n",
    "plt.imshow(image, cmap='gray')\n",
    "pixel_size = 800.e-6/image.shape[1]\n",
    "print(image.shape[1])\n",
    "print(pixel_size)"
   ]
  },
  {
   "cell_type": "code",
   "execution_count": null,
   "metadata": {},
   "outputs": [],
   "source": [
    "print(325e-9)"
   ]
  },
  {
   "cell_type": "code",
   "execution_count": null,
   "metadata": {},
   "outputs": [],
   "source": [
    "image_1 = tf.imread(r'C:\\Users\\User\\Github\\openCLEM\\scratch\\stitched.tif')\n",
    "plt.figure(dpi=200, figsize=(5,5))\n",
    "plt.imshow(image_1, cmap='turbo')\n",
    "plt.show()\n",
    "print(image_1.shape)"
   ]
  },
  {
   "cell_type": "code",
   "execution_count": null,
   "metadata": {},
   "outputs": [],
   "source": [
    "pixel_size_lm = 325e-9\n",
    "pixel_size_fib = 2.604166666666667e-07"
   ]
  },
  {
   "cell_type": "code",
   "execution_count": null,
   "metadata": {},
   "outputs": [],
   "source": [
    "realspace_lm = pixel_size_lm * image_1.shape[1]\n",
    "realspace_fib = pixel_size_fib * image.shape[1]"
   ]
  },
  {
   "cell_type": "code",
   "execution_count": null,
   "metadata": {},
   "outputs": [],
   "source": [
    "print(realspace_lm)\n",
    "print(realspace_fib)"
   ]
  },
  {
   "cell_type": "code",
   "execution_count": null,
   "metadata": {},
   "outputs": [],
   "source": [
    "n_pixels = realspace_lm/pixel_size_fib\n",
    "print(n_pixels)"
   ]
  },
  {
   "cell_type": "code",
   "execution_count": null,
   "metadata": {},
   "outputs": [],
   "source": [
    "diff_lm = n_pixels - image_1.shape[1]\n",
    "print(diff_lm)"
   ]
  },
  {
   "cell_type": "code",
   "execution_count": null,
   "metadata": {},
   "outputs": [],
   "source": [
    "\n",
    "# Compute the 2D Fourier transform\n",
    "fft = np.fft.fft2(image_1)\n",
    "# Pad the Fourier transform\n",
    "pad_rows = int(diff_lm/2)  # Double the number of rows\n",
    "pad_cols = int(diff_lm/2)  # Double the number of columns\n",
    "padded_fft = np.pad(fft, ((pad_rows, pad_rows), (pad_cols, pad_cols)), mode='constant', constant_values=0)\n",
    "\n",
    "# Perform the inverse Fourier transform\n",
    "padded_image = np.fft.ifft2(padded_fft)\n",
    "\n",
    "# Take the magnitude of the complex result\n",
    "padded_image = np.abs(padded_image)\n",
    "\n",
    "# Convert the result to uint8 for visualization\n",
    "# padded_image = np.uint8(padded_image)\n",
    "\"\"\n",
    "# Display the original image and the padded image\n",
    "plt.imshow(image_1)\n",
    "plt.colorbar()\n",
    "plt.show()\n",
    "plt.imshow(padded_image[0:image_1.shape[0], 0:image_1.shape[1]])\n",
    "plt.colorbar()\n",
    "plt.show()\n",
    "plt.imshow(padded_image)\n",
    "plt.colorbar()"
   ]
  },
  {
   "cell_type": "code",
   "execution_count": null,
   "metadata": {},
   "outputs": [],
   "source": [
    "new_realspace_lm = padded_image.shape[1] * pixel_size_lm\n",
    "new_pixel_size = realspace_lm / padded_image.shape[1]\n",
    "print(new_realspace_lm)\n",
    "print(realspace_lm)\n",
    "print(realspace_fib)\n",
    "print(new_pixel_size)"
   ]
  },
  {
   "cell_type": "code",
   "execution_count": null,
   "metadata": {},
   "outputs": [],
   "source": [
    "print(pixel_size_fib)\n",
    "print(pixel_size_lm)"
   ]
  },
  {
   "cell_type": "code",
   "execution_count": null,
   "metadata": {},
   "outputs": [],
   "source": []
  }
 ],
 "metadata": {
  "kernelspec": {
   "display_name": "openclem",
   "language": "python",
   "name": "python3"
  },
  "language_info": {
   "codemirror_mode": {
    "name": "ipython",
    "version": 3
   },
   "file_extension": ".py",
   "mimetype": "text/x-python",
   "name": "python",
   "nbconvert_exporter": "python",
   "pygments_lexer": "ipython3",
   "version": "3.9.16"
  },
  "orig_nbformat": 4
 },
 "nbformat": 4,
 "nbformat_minor": 2
}
