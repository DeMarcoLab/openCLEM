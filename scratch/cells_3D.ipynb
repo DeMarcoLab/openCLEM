{
 "cells": [
  {
   "cell_type": "code",
   "execution_count": null,
   "metadata": {},
   "outputs": [],
   "source": [
    "%load_ext autoreload\n",
    "%autoreload 2\n",
    "import numpy as np\n",
    "from glob import glob\n",
    "from pprint import pprint\n",
    "import tifffile as tf\n",
    "import matplotlib.pyplot as plt"
   ]
  },
  {
   "cell_type": "code",
   "execution_count": null,
   "metadata": {},
   "outputs": [],
   "source": [
    "path = r\"C:\\Users\\User\\Documents\\15-06-23 - Cells - LM\\15-06-23 - Cells - LM\\3D\"\n",
    "lm_paths = glob(path + r\"\\*.tif\")"
   ]
  },
  {
   "cell_type": "code",
   "execution_count": null,
   "metadata": {},
   "outputs": [],
   "source": [
    "image_1 = tf.imread(r'C:\\Users\\User\\Github\\openCLEM\\scratch\\stitched.tif')\n",
    "plt.imshow(image_1)"
   ]
  },
  {
   "cell_type": "code",
   "execution_count": null,
   "metadata": {},
   "outputs": [],
   "source": [
    "print(image_1.shape)"
   ]
  },
  {
   "cell_type": "code",
   "execution_count": null,
   "metadata": {},
   "outputs": [],
   "source": [
    "# expand dims\n",
    "image_1 = np.expand_dims(image_1, axis=0)\n"
   ]
  },
  {
   "cell_type": "code",
   "execution_count": null,
   "metadata": {},
   "outputs": [],
   "source": [
    "print(image_1.shape)"
   ]
  },
  {
   "cell_type": "code",
   "execution_count": null,
   "metadata": {},
   "outputs": [],
   "source": [
    "# repeat\n",
    "image_1 = np.repeat(image_1, 2, axis=0)\n",
    "# print(image_1.shape)\n"
   ]
  },
  {
   "cell_type": "code",
   "execution_count": null,
   "metadata": {},
   "outputs": [],
   "source": [
    "# make image_1 Grayscale, not RGB\n",
    "\n",
    "# image_1 = image_1[:, :, 0]\n",
    "print(image_1.shape)\n"
   ]
  },
  {
   "cell_type": "code",
   "execution_count": null,
   "metadata": {},
   "outputs": [],
   "source": [
    "#save\n",
    "tf.imsave(r'C:\\Users\\User\\Github\\openCLEM\\scratch\\stitched_3D.tif', data=image_1, imagej=True, metadata={'spacing': 0.5, 'unit': 'um', 'XResolution': 1/325, 'YResolution': 1/325, 'ResolutionUnit': 'um'})\n"
   ]
  },
  {
   "cell_type": "code",
   "execution_count": null,
   "metadata": {},
   "outputs": [],
   "source": [
    "# load IB2000 image\n",
    "image_2 = tf.imread(r'C:\\Users\\User\\Github\\openCLEM\\scratch\\EB_1000.tif')"
   ]
  },
  {
   "cell_type": "code",
   "execution_count": null,
   "metadata": {},
   "outputs": [],
   "source": [
    "print(image_2.shape)"
   ]
  },
  {
   "cell_type": "code",
   "execution_count": null,
   "metadata": {},
   "outputs": [],
   "source": [
    "# expand first dim\n",
    "image_2 = np.expand_dims(image_2, axis=0)\n",
    "# repeat 4 times\n",
    "image_2 = np.repeat(image_2, 2, axis=0)\n",
    "print(image_2.shape)\n"
   ]
  },
  {
   "cell_type": "code",
   "execution_count": null,
   "metadata": {},
   "outputs": [],
   "source": [
    "# add metadata to the tif image\n",
    "tf.imsave(r'C:\\Users\\User\\Github\\openCLEM\\scratch\\IB_2000_3D.tif', data=image_2, imagej=True, metadata={'spacing': 0.5, 'unit': 'um', 'XResolution': 1/270, 'YResolution': 1/270, 'ResolutionUnit': 'um'})"
   ]
  },
  {
   "cell_type": "code",
   "execution_count": null,
   "metadata": {},
   "outputs": [],
   "source": [
    "#save image\n",
    "tf.imsave(r'C:\\Users\\User\\Github\\openCLEM\\scratch\\IB_2000_3D.tif', image_2)"
   ]
  },
  {
   "cell_type": "code",
   "execution_count": null,
   "metadata": {},
   "outputs": [],
   "source": [
    "plt.imshow(image_2[2, :, :])"
   ]
  },
  {
   "cell_type": "code",
   "execution_count": null,
   "metadata": {},
   "outputs": [],
   "source": []
  }
 ],
 "metadata": {
  "kernelspec": {
   "display_name": "openclem",
   "language": "python",
   "name": "python3"
  },
  "language_info": {
   "codemirror_mode": {
    "name": "ipython",
    "version": 3
   },
   "file_extension": ".py",
   "mimetype": "text/x-python",
   "name": "python",
   "nbconvert_exporter": "python",
   "pygments_lexer": "ipython3",
   "version": "3.9.16"
  },
  "orig_nbformat": 4
 },
 "nbformat": 4,
 "nbformat_minor": 2
}
