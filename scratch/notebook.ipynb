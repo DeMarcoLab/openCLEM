{
 "cells": [
  {
   "cell_type": "code",
   "execution_count": null,
   "metadata": {},
   "outputs": [],
   "source": [
    "%load_ext autoreload\n",
    "%autoreload 2\n",
    "\n",
    "from openlm.detectors.demo.demo import DemoDetector\n",
    "from openlm.structures import DetectorSettings, ImageSettings, SerialSettings\n",
    "import matplotlib.pyplot as plt\n",
    "\n",
    "# initialise logging\n",
    "import logging\n",
    "logging.basicConfig(level=logging.INFO)\n"
   ]
  },
  {
   "cell_type": "code",
   "execution_count": null,
   "metadata": {},
   "outputs": [],
   "source": [
    "det_settings = DetectorSettings(\n",
    "    name=\"demo\",\n",
    "    serial_settings=SerialSettings(\n",
    "        port=\"ttyUSB0\",\n",
    "        baudrate=9600,\n",
    "        timeout=0.1),\n",
    "    pixel_size=1e-6,\n",
    "    resolution=[2048, 2048],\n",
    "\n",
    ")\n",
    "\n",
    "detector = DemoDetector(detector_settings=det_settings)\n",
    "detector.init_camera()"
   ]
  },
  {
   "cell_type": "code",
   "execution_count": null,
   "metadata": {},
   "outputs": [],
   "source": [
    "image_settings = ImageSettings(\n",
    "    pixel_size=1e-6,\n",
    "    exposure=1e-3\n",
    "    )\n",
    "\n",
    "image = detector.grab_image(image_settings)\n",
    "print(image.shape)"
   ]
  },
  {
   "cell_type": "code",
   "execution_count": null,
   "metadata": {},
   "outputs": [],
   "source": [
    "plt.imshow(image, cmap=\"gray\")\n",
    "plt.show()"
   ]
  },
  {
   "cell_type": "code",
   "execution_count": null,
   "metadata": {},
   "outputs": [],
   "source": []
  },
  {
   "cell_type": "code",
   "execution_count": null,
   "metadata": {},
   "outputs": [],
   "source": []
  },
  {
   "attachments": {},
   "cell_type": "markdown",
   "metadata": {},
   "source": []
  },
  {
   "attachments": {},
   "cell_type": "markdown",
   "metadata": {},
   "source": [
    "## Setup Session\n"
   ]
  },
  {
   "cell_type": "code",
   "execution_count": null,
   "metadata": {},
   "outputs": [],
   "source": [
    "%load_ext autoreload\n",
    "%autoreload 2\n",
    "\n",
    "from openlm import utils\n",
    "from openlm.microscopes.base import BaseLightMicroscope\n",
    "\n",
    "lc, det, obj = utils.setup_session()\n",
    "\n",
    "lm: BaseLightMicroscope = utils.create_microscope(\"test\", det, lc, obj)\n"
   ]
  },
  {
   "cell_type": "code",
   "execution_count": null,
   "metadata": {},
   "outputs": [],
   "source": []
  },
  {
   "cell_type": "code",
   "execution_count": null,
   "metadata": {},
   "outputs": [],
   "source": [
    "lm.get_detector()\n",
    "lm.get_laser_controller()\n",
    "lm.get_objective()"
   ]
  },
  {
   "cell_type": "code",
   "execution_count": null,
   "metadata": {},
   "outputs": [],
   "source": [
    "lm._laser_controller.get_laser(\"laser_1\")\n"
   ]
  },
  {
   "cell_type": "code",
   "execution_count": null,
   "metadata": {},
   "outputs": [],
   "source": []
  },
  {
   "cell_type": "code",
   "execution_count": null,
   "metadata": {},
   "outputs": [],
   "source": [
    "%load_ext autoreload\n",
    "%autoreload 2\n",
    "\n",
    "import matplotlib.pyplot as plt\n",
    "import numpy as np\n",
    "import glob \n",
    "filenames = sorted(glob.glob(r\"../image_*.npy\"))\n",
    "\n",
    "print(filenames)\n",
    "import os\n",
    "\n",
    "# plot as subplots\n",
    "fig, axs = plt.subplots(len(filenames)//4, 4, figsize=(15, 10))\n",
    "for i, fname in enumerate(filenames):\n",
    "    arr = np.load(fname)\n",
    "    axs[i//4, i%4].imshow(arr, cmap=\"gray\")\n",
    "    axs[i//4, i%4].set_title(os.path.basename(fname))"
   ]
  },
  {
   "cell_type": "code",
   "execution_count": null,
   "metadata": {},
   "outputs": [],
   "source": []
  },
  {
   "cell_type": "code",
   "execution_count": null,
   "metadata": {},
   "outputs": [],
   "source": []
  },
  {
   "cell_type": "code",
   "execution_count": null,
   "metadata": {},
   "outputs": [],
   "source": [
    "%load_ext autoreload\n",
    "%autoreload 2\n",
    "\n",
    "import matplotlib.pyplot as plt\n",
    "import numpy as np\n",
    "\n",
    "from openlm.structures import LightImage\n",
    "\n",
    "import glob\n",
    "\n",
    "\n",
    "filenames = sorted(glob.glob(\"../2023-05-*.tif\"))\n",
    "\n",
    "for fname in filenames:\n",
    "    img = LightImage.load(fname)\n",
    "\n",
    "    # subplots\n",
    "    fig, axs = plt.subplots(1, img.data.shape[2], figsize=(15, 10))\n",
    "\n",
    "    for i, channels in enumerate(img.metadata.channels):\n",
    "        axs[i].imshow(img.data[:, :, i], cmap=\"gray\")\n",
    "        axs[i].set_title(f\"channel {channels}\")\n",
    "\n",
    "    print(img.data.shape)\n",
    "    print(img.metadata.channels)\n",
    "\n",
    "    plt.show()"
   ]
  },
  {
   "cell_type": "code",
   "execution_count": null,
   "metadata": {},
   "outputs": [],
   "source": []
  },
  {
   "attachments": {},
   "cell_type": "markdown",
   "metadata": {},
   "source": [
    "## Microscope State"
   ]
  },
  {
   "attachments": {},
   "cell_type": "markdown",
   "metadata": {},
   "source": []
  },
  {
   "cell_type": "code",
   "execution_count": null,
   "metadata": {},
   "outputs": [],
   "source": [
    "%load_ext autoreload\n",
    "%autoreload 2\n",
    "\n",
    "import logging\n",
    "\n",
    "from openlm import utils\n",
    "from openlm import config as cfg\n",
    "import os\n",
    "\n",
    "from fibsem import utils as fibsem_utils\n",
    "\n",
    "\n",
    "import os\n",
    "from openlm import utils\n",
    "from openlm import config\n",
    "from openlm.structures import ImageMode, SynchroniserMessage, ImageSettings, DetectorSettings\n",
    "import time\n",
    "import logging\n",
    "import numpy as np\n",
    "from PIL import Image\n",
    "\n",
    "from dataclasses import dataclass\n",
    "from openlm.structures import (LaserSettings, ImageMode, TriggerEdge, TriggerSource, \n",
    "    DetectorSettings, ObjectiveSettings, LightImage, LightImageMetadata)\n",
    "\n",
    "from openlm.workflow import test_acq\n"
   ]
  },
  {
   "cell_type": "code",
   "execution_count": null,
   "metadata": {},
   "outputs": [],
   "source": [
    "CFG_PATH = os.path.join(cfg.BASE_PATH, \"config\", \"piedisc.yaml\")\n",
    "microscope, settings = utils.setup_session(config_path=CFG_PATH)\n",
    "microscope.fibsem_microscope, microscope.fibsem_settings = fibsem_utils.setup_session()"
   ]
  },
  {
   "cell_type": "code",
   "execution_count": null,
   "metadata": {},
   "outputs": [],
   "source": [
    "test_acq(microscope)"
   ]
  },
  {
   "cell_type": "code",
   "execution_count": null,
   "metadata": {},
   "outputs": [],
   "source": [
    "\n",
    "# SINGLE IMAGE\n",
    "\n",
    "# LIVE IMAGE\n",
    "\n",
    "\n",
    "\n",
    "\n",
    "\n",
    "\n",
    "\n"
   ]
  }
 ],
 "metadata": {
  "kernelspec": {
   "display_name": "openlm",
   "language": "python",
   "name": "python3"
  },
  "language_info": {
   "codemirror_mode": {
    "name": "ipython",
    "version": 3
   },
   "file_extension": ".py",
   "mimetype": "text/x-python",
   "name": "python",
   "nbconvert_exporter": "python",
   "pygments_lexer": "ipython3",
   "version": "3.9.16"
  },
  "orig_nbformat": 4
 },
 "nbformat": 4,
 "nbformat_minor": 2
}
