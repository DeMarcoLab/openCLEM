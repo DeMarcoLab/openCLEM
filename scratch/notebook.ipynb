{
 "cells": [
  {
   "cell_type": "code",
   "execution_count": null,
   "metadata": {},
   "outputs": [],
   "source": []
  },
  {
   "cell_type": "code",
   "execution_count": null,
   "metadata": {},
   "outputs": [],
   "source": []
  },
  {
   "cell_type": "code",
   "execution_count": null,
   "metadata": {},
   "outputs": [],
   "source": [
    "%load_ext autoreload\n",
    "%autoreload 2\n",
    "\n",
    "import matplotlib.pyplot as plt\n",
    "import numpy as np\n",
    "\n",
    "from openlm.structures import LightImage\n",
    "\n",
    "from pprint import pprint\n",
    "\n",
    "\n",
    "import glob\n",
    "import os\n",
    "\n",
    "# path = r\"D:\\David\\piescope_dev\\tile\"\n",
    "# path = r\"C:\\Users\\Admin\\Github\\openclem\\openlm\\log\\workflow_2023-05-09-04-53-32-570840PM\"\n",
    "path = r\"C:\\Users\\Admin\\Github\\openclem\\openlm\\log\\workflow_2023-05-09-05-11-06-661800PM\"\n",
    "filenames = sorted(glob.glob(os.path.join(path, \"*.tif\")))\n",
    "\n",
    "for fname in filenames:\n",
    "    img = LightImage.load(fname)\n",
    "    \n",
    "    # print(fname)\n",
    "    # print(img.data.shape)\n",
    "    # print(img.metadata.channels)\n",
    "    # print(img.metadata.stage)\n",
    "    # print(img.metadata.image.workflow)\n",
    "\n",
    "    # subplots\n",
    "    fig, axs = plt.subplots(1, img.data.shape[2], figsize=(15, 10))\n",
    "\n",
    "    for i, channels in enumerate(img.metadata.channels):\n",
    "        cmap = \"Greens\" if i == 0 else \"Blues\"\n",
    "        axs[i].imshow(img.data[:, :, i], cmap=cmap)\n",
    "        axs[i].set_title(f\"channel {channels}\")\n",
    "\n",
    "        #centre crosshair, dashed line\n",
    "        axs[i].axvline(img.data.shape[0]//2, linestyle=\"--\", color=\"yellow\")\n",
    "        axs[i].axhline(img.data.shape[1]//2, linestyle=\"--\", color=\"yellow\")\n",
    "\n",
    "    plt.show()"
   ]
  },
  {
   "cell_type": "code",
   "execution_count": null,
   "metadata": {},
   "outputs": [],
   "source": [
    "from pprint import pprint \n",
    "pprint(img.metadata.channels)\n",
    "pprint(img.metadata.time)\n",
    "pprint(img.metadata.lasers)\n",
    "pprint(img.metadata.detector)\n",
    "pprint(img.metadata.sync)\n",
    "pprint(img.metadata.objective)\n",
    "pprint(img.metadata.stage)\n"
   ]
  },
  {
   "cell_type": "code",
   "execution_count": null,
   "metadata": {},
   "outputs": [],
   "source": [
    "\n",
    "from openlm.structures import WorkflowSettings\n",
    "\n",
    "wf = WorkflowSettings.__from_dict__(LightImage.load(filenames[0]).metadata.image.workflow)\n",
    "\n",
    "pprint(wf)\n",
    "\n",
    "fig, ax = plt.subplots(wf.n_rows, wf.n_cols, figsize=(10, 10))\n",
    "\n",
    "\n",
    "idx = 0\n",
    "for row in range(wf.n_rows):\n",
    "    for col in range(wf.n_cols):\n",
    "        for vol in range(wf.n_slices):\n",
    "            print(row, col, vol, idx, filenames[idx])\n",
    "            img = LightImage.load(filenames[idx])\n",
    "            ax[row, col].imshow(img.data[:, :, 1], cmap=\"Blues\")\n",
    "            # ax[row, col].set_title(f\"row {row}, col {col}, vol {vol}\")\n",
    "            idx += 1\n",
    "\n",
    "            # tight subplot, no axes\n",
    "            ax[row, col].axis(\"off\")\n",
    "\n",
    "plt.tight_layout()\n",
    "# remove spacing\n",
    "plt.subplots_adjust(wspace=0, hspace=0)\n",
    "\n",
    "\n",
    "plt.show()"
   ]
  },
  {
   "attachments": {},
   "cell_type": "markdown",
   "metadata": {},
   "source": [
    "## Microscope State"
   ]
  },
  {
   "attachments": {},
   "cell_type": "markdown",
   "metadata": {},
   "source": []
  },
  {
   "cell_type": "code",
   "execution_count": null,
   "metadata": {},
   "outputs": [],
   "source": [
    "%load_ext autoreload\n",
    "%autoreload 2\n",
    "\n",
    "import logging\n",
    "\n",
    "from openlm import utils\n",
    "from openlm import config as cfg\n",
    "import os\n",
    "\n",
    "from fibsem import utils as fibsem_utils\n",
    "\n",
    "\n",
    "import os\n",
    "from openlm import utils\n",
    "from openlm import config\n",
    "from openlm.structures import ImageMode, SynchroniserMessage, ImageSettings, DetectorSettings\n",
    "import time\n",
    "import logging\n",
    "import numpy as np\n",
    "from PIL import Image\n",
    "\n",
    "from dataclasses import dataclass\n",
    "from openlm.structures import (LaserSettings, ImageMode, TriggerEdge, TriggerSource, \n",
    "    DetectorSettings, ObjectiveSettings, LightImage, LightImageMetadata)\n",
    "\n",
    "from openlm.workflow import test_acq\n"
   ]
  },
  {
   "cell_type": "code",
   "execution_count": null,
   "metadata": {},
   "outputs": [],
   "source": [
    "CFG_PATH = os.path.join(cfg.BASE_PATH, \"config\", \"piedisc.yaml\")\n",
    "microscope, settings = utils.setup_session(config_path=CFG_PATH)\n",
    "microscope.fibsem_microscope, microscope.fibsem_settings = fibsem_utils.setup_session()"
   ]
  },
  {
   "cell_type": "code",
   "execution_count": null,
   "metadata": {},
   "outputs": [],
   "source": []
  },
  {
   "cell_type": "code",
   "execution_count": null,
   "metadata": {},
   "outputs": [],
   "source": [
    "# SINGLE IMAGE\n",
    "\n",
    "\n",
    "\n",
    "# what is a workflow\n",
    "# a list of workflow steps\n",
    "\n",
    "# what is a workflow step\n",
    "# a function to run\n",
    "\n",
    "\n"
   ]
  },
  {
   "attachments": {},
   "cell_type": "markdown",
   "metadata": {},
   "source": [
    "## Workflow Generation"
   ]
  },
  {
   "cell_type": "code",
   "execution_count": null,
   "metadata": {},
   "outputs": [],
   "source": [
    "%load_ext autoreload\n",
    "%autoreload 2\n",
    "\n",
    "import numpy as np\n",
    "\n",
    "from pprint import pprint"
   ]
  },
  {
   "cell_type": "code",
   "execution_count": null,
   "metadata": {},
   "outputs": [],
   "source": [
    "def _gen_tiles(n_rows: int = 1, n_cols: int = 1, dx:float = 0, dy: float = 0.0)-> list:\n",
    "    # relative position of each tile\n",
    "    return [{\"type\": \"move_stage\", \"dx\":j*dx, \"dy\":i*dy} for i in range(n_rows) for j in range(n_cols)]\n",
    "\n",
    "\n",
    "def _gen_vol():\n",
    "    return\n"
   ]
  },
  {
   "cell_type": "code",
   "execution_count": null,
   "metadata": {},
   "outputs": [],
   "source": [
    "tile_list = _gen_tiles(n_rows=3, n_cols=3, dx=1, dy=1)\n",
    "pprint(tile_list)"
   ]
  },
  {
   "cell_type": "code",
   "execution_count": null,
   "metadata": {},
   "outputs": [],
   "source": [
    "\n",
    "\n",
    "\n",
    "\n"
   ]
  },
  {
   "attachments": {},
   "cell_type": "markdown",
   "metadata": {},
   "source": [
    "### Worfklow"
   ]
  },
  {
   "cell_type": "code",
   "execution_count": null,
   "metadata": {},
   "outputs": [],
   "source": [
    "%load_ext autoreload\n",
    "%autoreload 2\n",
    "\n",
    "import numpy as np\n",
    "import itertools\n",
    "from pprint import pprint\n",
    "\n",
    "from openlm.workflow import _gen_tiling_workflow, _gen_volume_workflow, _gen_workflow\n",
    "from openlm.structures import ImageSettings, SynchroniserMessage"
   ]
  },
  {
   "attachments": {},
   "cell_type": "markdown",
   "metadata": {},
   "source": []
  },
  {
   "cell_type": "code",
   "execution_count": null,
   "metadata": {},
   "outputs": [],
   "source": [
    "\n",
    "\n",
    "image_settings = ImageSettings()\n",
    "sync_message = SynchroniserMessage(exposures=None, pins=None)\n",
    "\n",
    "tile_coords = _gen_tiling_workflow(n_rows=2, n_cols=2, dx=100e-6, dy=100e-6)\n",
    "# This gives us the relative x, y coordinates for each imaging position\n",
    "\n",
    "volume_coords = _gen_volume_workflow(n_slices=3, dz=5e-6)\n",
    "# This gives us the relative z coordinates for each imaging position\n",
    "\n",
    "workflow = _gen_workflow(tile_coords, volume_coords, \n",
    "                         image_settings=image_settings, \n",
    "                         sync_message=sync_message,\n",
    "                         ) \n"
   ]
  },
  {
   "cell_type": "code",
   "execution_count": null,
   "metadata": {},
   "outputs": [],
   "source": [
    "# print(f\"Workflow Length: {len(workflow)}\")\n",
    "# pprint(workflow)\n",
    "\n",
    "# counter how many dicts have type = \"image\"\n",
    "from collections import Counter\n",
    "counter = Counter([step[\"type\"] for step in workflow])\n",
    "\n",
    "pprint(counter)\n",
    "\n",
    "# import pandas as pd\n",
    "# df = pd.DataFrame(workflow)\n",
    "# pd.set_option(\"display.max_rows\", None)\n",
    "# display(df)\n"
   ]
  },
  {
   "cell_type": "code",
   "execution_count": null,
   "metadata": {},
   "outputs": [],
   "source": [
    "\n",
    "\n",
    "def test_gen_workflow(n_rows, n_cols, n_slices):\n",
    "    initial_position = [0, 0, 0]\n",
    "\n",
    "    tile_coords = _gen_tiling_workflow(n_rows=n_rows, n_cols=n_cols, dx=1, dy=1)\n",
    "    volume_coords = _gen_volume_workflow(n_slices=n_slices, dz=1)\n",
    "    workflow = _gen_workflow(tile_coords, volume_coords, initial_position=initial_position)\n",
    "\n",
    "    counter = Counter([step[\"type\"] for step in workflow])\n",
    "\n",
    "    assert counter[\"move_stage\"] == n_rows * n_cols, f\"Expected {n_rows * n_cols} move_stage steps, got {counter['move_stage']}\"\n",
    "    assert counter[\"move_objective\"] == n_slices * n_cols * n_rows + 1, f\"Expected {n_slices * n_cols * n_rows + 1} move_objective steps, got {counter['move_objective']}\"\n",
    "    assert counter[\"acquire_image\"] == n_rows * n_cols * n_slices, f\"Expected {n_rows * n_cols * n_slices} acquire_image steps, got {counter['acquire_image']}\"\n",
    "\n",
    "\n",
    "# test_gen_workflow(n_rows=2, n_cols=2, n_slices=1)\n",
    "# test_gen_workflow(n_rows=2, n_cols=2, n_slices=2)\n",
    "test_gen_workflow(n_rows=2, n_cols=2, n_slices=3)"
   ]
  },
  {
   "cell_type": "code",
   "execution_count": null,
   "metadata": {},
   "outputs": [],
   "source": [
    "%load_ext autoreload\n",
    "%autoreload 2\n",
    "\n",
    "from openlm.workflow import _gen_tiling_workflow, _gen_volume_workflow, _gen_workflow, generate_workflow, generate_workflow_v2\n",
    "from openlm.structures import ImageSettings, SynchroniserMessage, WorkflowSettings\n"
   ]
  },
  {
   "cell_type": "code",
   "execution_count": null,
   "metadata": {},
   "outputs": [],
   "source": [
    "img_settings, sync_message = ImageSettings(), SynchroniserMessage(exposures=None, pins=None)\n",
    "wf_settings = WorkflowSettings(n_rows=2, n_cols=2, n_slices=3, dx=1, dy=1, dz=1)\n",
    "\n",
    "workflow = generate_workflow_v2(wf_settings, img_settings, sync_message)\n",
    "\n",
    "from collections import Counter\n",
    "from pprint import pprint\n",
    "\n",
    "counter = Counter([step.type for step in workflow])\n",
    "\n",
    "pprint(workflow)\n",
    "pprint(counter)"
   ]
  },
  {
   "cell_type": "code",
   "execution_count": null,
   "metadata": {},
   "outputs": [],
   "source": []
  },
  {
   "attachments": {},
   "cell_type": "markdown",
   "metadata": {},
   "source": [
    "## Experiment Management"
   ]
  },
  {
   "cell_type": "code",
   "execution_count": null,
   "metadata": {},
   "outputs": [],
   "source": [
    "%load_ext autoreload\n",
    "%autoreload 2\n",
    "\n",
    "import logging\n",
    "\n",
    "from openlm import utils\n",
    "from openlm import config as cfg\n",
    "import os\n",
    "\n",
    "from fibsem import utils as fibsem_utils\n",
    "\n",
    "\n",
    "import os\n",
    "from openlm import utils\n",
    "from openlm import config\n",
    "from openlm.structures import ImageMode, SynchroniserMessage, ImageSettings, DetectorSettings\n",
    "import time\n",
    "import logging\n",
    "import numpy as np\n",
    "from PIL import Image\n",
    "\n",
    "from dataclasses import dataclass\n",
    "from openlm.structures import (LaserSettings, ImageMode, TriggerEdge, TriggerSource, \n",
    "    DetectorSettings, ObjectiveSettings, LightImage, LightImageMetadata)\n",
    "\n",
    "from openlm.workflow import test_acq\n",
    "\n",
    "from openlm.structures import Experiment\n"
   ]
  },
  {
   "cell_type": "code",
   "execution_count": null,
   "metadata": {},
   "outputs": [],
   "source": [
    "CFG_PATH = os.path.join(cfg.BASE_PATH, \"config\", \"piedisc.yaml\")\n",
    "microscope, settings = utils.setup_session(config_path=CFG_PATH)\n",
    "microscope.fibsem_microscope, microscope.fibsem_settings = fibsem_utils.setup_session()"
   ]
  },
  {
   "cell_type": "code",
   "execution_count": null,
   "metadata": {},
   "outputs": [],
   "source": []
  },
  {
   "cell_type": "code",
   "execution_count": null,
   "metadata": {},
   "outputs": [],
   "source": [
    "state = microscope.fibsem_microscope.get_current_microscope_state()\n",
    "from pprint import pprint\n",
    "\n",
    "pprint(state)"
   ]
  },
  {
   "cell_type": "code",
   "execution_count": null,
   "metadata": {},
   "outputs": [],
   "source": [
    "EXP_NAME = \"piedisc_experiment\"\n",
    "experiment = Experiment(path=cfg.LOG_PATH, name=EXP_NAME)"
   ]
  },
  {
   "cell_type": "code",
   "execution_count": null,
   "metadata": {},
   "outputs": [],
   "source": [
    "pprint(experiment)"
   ]
  },
  {
   "cell_type": "code",
   "execution_count": null,
   "metadata": {},
   "outputs": [],
   "source": [
    "experiment.positions.append(state)\n",
    "pprint(experiment)"
   ]
  },
  {
   "cell_type": "code",
   "execution_count": null,
   "metadata": {},
   "outputs": [],
   "source": [
    "experiment.save()"
   ]
  },
  {
   "cell_type": "code",
   "execution_count": null,
   "metadata": {},
   "outputs": [],
   "source": [
    "exp = Experiment.load(os.path.join(cfg.LOG_PATH, EXP_NAME, f\"{EXP_NAME}.yaml\"))\n",
    "pprint(exp)"
   ]
  },
  {
   "cell_type": "code",
   "execution_count": null,
   "metadata": {},
   "outputs": [],
   "source": []
  }
 ],
 "metadata": {
  "kernelspec": {
   "display_name": "openlm",
   "language": "python",
   "name": "python3"
  },
  "language_info": {
   "codemirror_mode": {
    "name": "ipython",
    "version": 3
   },
   "file_extension": ".py",
   "mimetype": "text/x-python",
   "name": "python",
   "nbconvert_exporter": "python",
   "pygments_lexer": "ipython3",
   "version": "3.9.16"
  },
  "orig_nbformat": 4
 },
 "nbformat": 4,
 "nbformat_minor": 2
}
