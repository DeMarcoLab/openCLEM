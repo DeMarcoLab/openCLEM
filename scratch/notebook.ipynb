{
 "cells": [
  {
   "cell_type": "code",
   "execution_count": null,
   "metadata": {},
   "outputs": [],
   "source": [
    "%load_ext autoreload\n",
    "%autoreload 2\n",
    "\n",
    "from openlm.detectors.demo.demo import DemoDetector\n",
    "from openlm.structures import DetectorSettings, ImageSettings, SerialSettings\n",
    "import matplotlib.pyplot as plt\n",
    "\n",
    "# initialise logging\n",
    "import logging\n",
    "logging.basicConfig(level=logging.INFO)\n"
   ]
  },
  {
   "cell_type": "code",
   "execution_count": null,
   "metadata": {},
   "outputs": [],
   "source": [
    "det_settings = DetectorSettings(\n",
    "    name=\"demo\",\n",
    "    serial_settings=SerialSettings(\n",
    "        port=\"ttyUSB0\",\n",
    "        baudrate=9600,\n",
    "        timeout=0.1),\n",
    "    pixel_size=1e-6,\n",
    "    resolution=[2048, 2048],\n",
    "\n",
    ")\n",
    "\n",
    "detector = DemoDetector(detector_settings=det_settings)\n",
    "detector.init_camera()"
   ]
  },
  {
   "cell_type": "code",
   "execution_count": null,
   "metadata": {},
   "outputs": [],
   "source": [
    "image_settings = ImageSettings(\n",
    "    pixel_size=1e-6,\n",
    "    exposure=1e-3\n",
    "    )\n",
    "\n",
    "image = detector.grab_image(image_settings)\n",
    "print(image.shape)"
   ]
  },
  {
   "cell_type": "code",
   "execution_count": null,
   "metadata": {},
   "outputs": [],
   "source": [
    "plt.imshow(image, cmap=\"gray\")\n",
    "plt.show()"
   ]
  },
  {
   "cell_type": "code",
   "execution_count": null,
   "metadata": {},
   "outputs": [],
   "source": []
  },
  {
   "cell_type": "code",
   "execution_count": null,
   "metadata": {},
   "outputs": [],
   "source": []
  },
  {
   "attachments": {},
   "cell_type": "markdown",
   "metadata": {},
   "source": []
  },
  {
   "attachments": {},
   "cell_type": "markdown",
   "metadata": {},
   "source": [
    "## Setup Session\n"
   ]
  },
  {
   "cell_type": "code",
   "execution_count": null,
   "metadata": {},
   "outputs": [],
   "source": [
    "%load_ext autoreload\n",
    "%autoreload 2\n",
    "\n",
    "from openlm import utils\n",
    "from openlm.microscopes.base import BaseLightMicroscope\n",
    "\n",
    "lc, det, obj = utils.setup_session()\n",
    "\n",
    "lm: BaseLightMicroscope = utils.create_microscope(\"test\", det, lc, obj)\n"
   ]
  },
  {
   "cell_type": "code",
   "execution_count": null,
   "metadata": {},
   "outputs": [],
   "source": []
  },
  {
   "cell_type": "code",
   "execution_count": null,
   "metadata": {},
   "outputs": [],
   "source": [
    "lm.get_detector()\n",
    "lm.get_laser_controller()\n",
    "lm.get_objective()"
   ]
  },
  {
   "cell_type": "code",
   "execution_count": null,
   "metadata": {},
   "outputs": [],
   "source": [
    "lm._laser_controller.get_laser(\"laser_1\")\n"
   ]
  },
  {
   "cell_type": "code",
   "execution_count": null,
   "metadata": {},
   "outputs": [],
   "source": []
  },
  {
   "cell_type": "code",
   "execution_count": null,
   "metadata": {},
   "outputs": [],
   "source": [
    "%load_ext autoreload\n",
    "%autoreload 2\n",
    "\n",
    "import matplotlib.pyplot as plt\n",
    "import numpy as np\n",
    "import glob \n",
    "filenames = sorted(glob.glob(r\"../image_*.npy\"))\n",
    "\n",
    "print(filenames)\n",
    "import os\n",
    "\n",
    "# plot as subplots\n",
    "fig, axs = plt.subplots(len(filenames)//4, 4, figsize=(15, 10))\n",
    "for i, fname in enumerate(filenames):\n",
    "    arr = np.load(fname)\n",
    "    axs[i//4, i%4].imshow(arr, cmap=\"gray\")\n",
    "    axs[i//4, i%4].set_title(os.path.basename(fname))"
   ]
  },
  {
   "cell_type": "code",
   "execution_count": null,
   "metadata": {},
   "outputs": [],
   "source": []
  },
  {
   "cell_type": "code",
   "execution_count": null,
   "metadata": {},
   "outputs": [],
   "source": []
  },
  {
   "cell_type": "code",
   "execution_count": null,
   "metadata": {},
   "outputs": [],
   "source": [
    "%load_ext autoreload\n",
    "%autoreload 2\n",
    "\n",
    "import matplotlib.pyplot as plt\n",
    "import numpy as np\n",
    "\n",
    "from openlm.structures import LightImage\n",
    "\n",
    "import glob\n",
    "import os\n",
    "\n",
    "# path = r\"D:\\David\\piescope_dev\\tile\"\n",
    "path = \"../\"\n",
    "filenames = sorted(glob.glob(os.path.join(path, \"2023-05-08-04-1*.tif\")))\n",
    "\n",
    "for fname in filenames:\n",
    "    img = LightImage.load(fname)\n",
    "\n",
    "    # subplots\n",
    "    fig, axs = plt.subplots(1, img.data.shape[2], figsize=(15, 10))\n",
    "\n",
    "    for i, channels in enumerate(img.metadata.channels):\n",
    "        cmap = \"Greens\" if i == 0 else \"Blues\"\n",
    "        axs[i].imshow(img.data[:, :, i], cmap=cmap)\n",
    "        axs[i].set_title(f\"channel {channels}\")\n",
    "\n",
    "        #centre crosshair, dashed line\n",
    "        axs[i].axvline(img.data.shape[0]//2, linestyle=\"--\", color=\"yellow\")\n",
    "        axs[i].axhline(img.data.shape[1]//2, linestyle=\"--\", color=\"yellow\")\n",
    "    print(fname)\n",
    "    print(img.data.shape)\n",
    "    print(img.metadata.channels)\n",
    "\n",
    "    plt.show()"
   ]
  },
  {
   "cell_type": "code",
   "execution_count": null,
   "metadata": {},
   "outputs": [],
   "source": []
  },
  {
   "attachments": {},
   "cell_type": "markdown",
   "metadata": {},
   "source": [
    "## Microscope State"
   ]
  },
  {
   "attachments": {},
   "cell_type": "markdown",
   "metadata": {},
   "source": []
  },
  {
   "cell_type": "code",
   "execution_count": null,
   "metadata": {},
   "outputs": [],
   "source": [
    "%load_ext autoreload\n",
    "%autoreload 2\n",
    "\n",
    "import logging\n",
    "\n",
    "from openlm import utils\n",
    "from openlm import config as cfg\n",
    "import os\n",
    "\n",
    "from fibsem import utils as fibsem_utils\n",
    "\n",
    "\n",
    "import os\n",
    "from openlm import utils\n",
    "from openlm import config\n",
    "from openlm.structures import ImageMode, SynchroniserMessage, ImageSettings, DetectorSettings\n",
    "import time\n",
    "import logging\n",
    "import numpy as np\n",
    "from PIL import Image\n",
    "\n",
    "from dataclasses import dataclass\n",
    "from openlm.structures import (LaserSettings, ImageMode, TriggerEdge, TriggerSource, \n",
    "    DetectorSettings, ObjectiveSettings, LightImage, LightImageMetadata)\n",
    "\n",
    "from openlm.workflow import test_acq\n"
   ]
  },
  {
   "cell_type": "code",
   "execution_count": null,
   "metadata": {},
   "outputs": [],
   "source": [
    "CFG_PATH = os.path.join(cfg.BASE_PATH, \"config\", \"piedisc.yaml\")\n",
    "microscope, settings = utils.setup_session(config_path=CFG_PATH)\n",
    "microscope.fibsem_microscope, microscope.fibsem_settings = fibsem_utils.setup_session()"
   ]
  },
  {
   "cell_type": "code",
   "execution_count": null,
   "metadata": {},
   "outputs": [],
   "source": []
  },
  {
   "cell_type": "code",
   "execution_count": null,
   "metadata": {},
   "outputs": [],
   "source": [
    "# SINGLE IMAGE\n",
    "\n",
    "\n",
    "\n",
    "# what is a workflow\n",
    "# a list of workflow steps\n",
    "\n",
    "# what is a workflow step\n",
    "# a function to run\n",
    "\n",
    "\n"
   ]
  },
  {
   "attachments": {},
   "cell_type": "markdown",
   "metadata": {},
   "source": [
    "## Workflow Generation"
   ]
  },
  {
   "cell_type": "code",
   "execution_count": null,
   "metadata": {},
   "outputs": [],
   "source": [
    "%load_ext autoreload\n",
    "%autoreload 2\n",
    "\n",
    "import numpy as np\n",
    "\n",
    "from pprint import pprint"
   ]
  },
  {
   "cell_type": "code",
   "execution_count": null,
   "metadata": {},
   "outputs": [],
   "source": [
    "def _gen_tiles(n_rows: int = 1, n_cols: int = 1, dx:float = 0, dy: float = 0.0)-> list:\n",
    "    # relative position of each tile\n",
    "    return [{\"type\": \"move_stage\", \"dx\":j*dx, \"dy\":i*dy} for i in range(n_rows) for j in range(n_cols)]\n",
    "\n",
    "\n",
    "def _gen_vol():\n",
    "    return\n"
   ]
  },
  {
   "cell_type": "code",
   "execution_count": null,
   "metadata": {},
   "outputs": [],
   "source": [
    "tile_list = _gen_tiles(n_rows=3, n_cols=3, dx=1, dy=1)\n",
    "pprint(tile_list)"
   ]
  },
  {
   "cell_type": "code",
   "execution_count": null,
   "metadata": {},
   "outputs": [],
   "source": [
    "from dataclasses import dataclass\n",
    "\n",
    "from openlm.microscope import LightMicroscope\n",
    "from abc import ABC, abstractmethod\n",
    "\n",
    "@dataclass\n",
    "class OpenLMSWorkflowStep(ABC):\n",
    "    type: str\n",
    "    name: str\n",
    "    params: dict\n",
    "\n",
    "    @abstractmethod\n",
    "    def run(self, microscope: LightMicroscope, return_func=None, *args, **kwargs):\n",
    "        pass\n",
    "\n",
    "class OpenLMSWorkflowStepMoveStage(OpenLMSWorkflowStep):\n",
    "    def __init__(self, name: str, params: dict):\n",
    "        super().__init__(type=\"move_stage\", name=name, params=params)\n",
    "\n",
    "    def run(self,microscope: LightMicroscope, return_func=None ):\n",
    "        worker = microscope.move_stage(dx=self.params[\"dx\"], dy=self.params[\"dy\"])\n",
    "        worker.returned.connect(return_func)  # type: ignore\n",
    "        worker.start()\n",
    "\n",
    "class OpenLMSWorkflowStepAcquireImage(OpenLMSWorkflowStep):\n",
    "    def __init__(self, name: str, params: dict):\n",
    "        super().__init__(type=\"acquire_image\", name=name, params=params)\n",
    "\n",
    "    def run(self, microscope: LightMicroscope, return_func=None ):\n",
    "        self.params[\"stop_event\"].clear()\n",
    "        microscope.setup_acquisition()\n",
    "\n",
    "        # TODO: disable other microscope interactions\n",
    "        worker = microscope.consume_image_queue(save=True, parent_ui=self.params[\"parent_ui\"])\n",
    "        worker.returned.connect(return_func)  # type: ignore\n",
    "        worker.start()\n",
    "\n",
    "        time.sleep(1)\n",
    "\n",
    "        # acquire image\n",
    "        self.params[\"parent_ui\"].image_queue, self.params[\"parent_ui\"].stop_event = self.microscope.acquire_image(\n",
    "            image_settings=self.params[\"settings\"],\n",
    "            sync_message=self.params[\"sync\"],\n",
    "            stop_event=self.params[\"parent_ui\"].stop_event,\n",
    "        )\n",
    "\n",
    "class OpenLMSWorkflowStepMoveObjective(OpenLMSWorkflowStep):\n",
    "    def __init__(self, name: str, params: dict):\n",
    "        super().__init__(type=\"move_objective\", name=name, params=params)\n",
    "\n",
    "    def run(self, microscope: LightMicroscope, return_func=None, ):\n",
    "        logging.info(f\"Objective Move: {self.params['dz']}\")\n",
    "        worker = microscope.move_objective_stage(dz=self.params[\"dz\"])\n",
    "        worker.returned.connect(return_func)  # type: ignore\n",
    "        worker.start()\n",
    "\n",
    "\n",
    "\n",
    "\n",
    "\n"
   ]
  },
  {
   "attachments": {},
   "cell_type": "markdown",
   "metadata": {},
   "source": [
    "### Worfklow"
   ]
  },
  {
   "cell_type": "code",
   "execution_count": 19,
   "metadata": {},
   "outputs": [
    {
     "name": "stdout",
     "output_type": "stream",
     "text": [
      "The autoreload extension is already loaded. To reload it, use:\n",
      "  %reload_ext autoreload\n"
     ]
    }
   ],
   "source": [
    "%load_ext autoreload\n",
    "%autoreload 2\n",
    "\n",
    "import numpy as np\n",
    "import itertools\n",
    "from pprint import pprint\n",
    "\n",
    "from openlm.workflow import _gen_tiling_workflow, _gen_volume_workflow, _gen_workflow\n",
    "from openlm.structures import ImageSettings, SynchroniserMessage"
   ]
  },
  {
   "attachments": {},
   "cell_type": "markdown",
   "metadata": {},
   "source": []
  },
  {
   "cell_type": "code",
   "execution_count": 23,
   "metadata": {},
   "outputs": [],
   "source": [
    "\n",
    "\n",
    "image_settings = ImageSettings()\n",
    "sync_message = SynchroniserMessage(exposures=None, pins=None)\n",
    "\n",
    "tile_coords = _gen_tiling_workflow(n_rows=2, n_cols=2, dx=100e-6, dy=100e-6)\n",
    "# This gives us the relative x, y coordinates for each imaging position\n",
    "\n",
    "volume_coords = _gen_volume_workflow(n_slices=3, step_size=5e-6)\n",
    "# This gives us the relative z coordinates for each imaging position\n",
    "\n",
    "workflow = _gen_workflow(tile_coords, volume_coords, \n",
    "                         image_settings=image_settings, \n",
    "                         sync_message=sync_message,\n",
    "                         ) \n"
   ]
  },
  {
   "cell_type": "code",
   "execution_count": 24,
   "metadata": {},
   "outputs": [
    {
     "name": "stdout",
     "output_type": "stream",
     "text": [
      "Counter({'move_objective': 13, 'acquire_image': 12, 'move_stage': 4})\n"
     ]
    }
   ],
   "source": [
    "# print(f\"Workflow Length: {len(workflow)}\")\n",
    "# pprint(workflow)\n",
    "\n",
    "# counter how many dicts have type = \"image\"\n",
    "from collections import Counter\n",
    "counter = Counter([step[\"type\"] for step in workflow])\n",
    "\n",
    "pprint(counter)\n",
    "\n",
    "# import pandas as pd\n",
    "# df = pd.DataFrame(workflow)\n",
    "# pd.set_option(\"display.max_rows\", None)\n",
    "# display(df)\n"
   ]
  },
  {
   "cell_type": "code",
   "execution_count": null,
   "metadata": {},
   "outputs": [],
   "source": [
    "\n",
    "\n",
    "def test_gen_workflow(n_rows, n_cols, n_slices):\n",
    "    initial_position = [0, 0, 0]\n",
    "\n",
    "    tile_coords = _gen_tiling_workflow(n_rows=n_rows, n_cols=n_cols, dx=1, dy=1)\n",
    "    volume_coords = _gen_volume_workflow(n_slices=n_slices, step_size=1)\n",
    "    workflow = _gen_workflow(tile_coords, volume_coords, initial_position=initial_position)\n",
    "\n",
    "    counter = Counter([step[\"type\"] for step in workflow])\n",
    "\n",
    "    assert counter[\"move_stage\"] == n_rows * n_cols, f\"Expected {n_rows * n_cols} move_stage steps, got {counter['move_stage']}\"\n",
    "    assert counter[\"move_objective\"] == n_slices * n_cols * n_rows + 1, f\"Expected {n_slices * n_cols * n_rows + 1} move_objective steps, got {counter['move_objective']}\"\n",
    "    assert counter[\"acquire_image\"] == n_rows * n_cols * n_slices, f\"Expected {n_rows * n_cols * n_slices} acquire_image steps, got {counter['acquire_image']}\"\n",
    "\n",
    "\n",
    "# test_gen_workflow(n_rows=2, n_cols=2, n_slices=1)\n",
    "# test_gen_workflow(n_rows=2, n_cols=2, n_slices=2)\n",
    "test_gen_workflow(n_rows=2, n_cols=2, n_slices=3)"
   ]
  }
 ],
 "metadata": {
  "kernelspec": {
   "display_name": "openlm",
   "language": "python",
   "name": "python3"
  },
  "language_info": {
   "codemirror_mode": {
    "name": "ipython",
    "version": 3
   },
   "file_extension": ".py",
   "mimetype": "text/x-python",
   "name": "python",
   "nbconvert_exporter": "python",
   "pygments_lexer": "ipython3",
   "version": "3.9.16"
  },
  "orig_nbformat": 4
 },
 "nbformat": 4,
 "nbformat_minor": 2
}
