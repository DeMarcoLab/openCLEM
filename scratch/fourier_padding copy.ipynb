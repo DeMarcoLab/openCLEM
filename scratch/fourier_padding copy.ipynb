{
 "cells": [
  {
   "cell_type": "code",
   "execution_count": null,
   "metadata": {},
   "outputs": [],
   "source": [
    "import numpy as np\n",
    "from scipy.fftpack import fftfreq\n",
    "from scipy.ndimage import median_filter, gaussian_filter\n",
    "import cv2\n",
    "import tifffile as tf\n",
    "import matplotlib.pyplot as plt\n"
   ]
  },
  {
   "cell_type": "code",
   "execution_count": null,
   "metadata": {},
   "outputs": [],
   "source": [
    "image_1 = tf.imread(r'C:\\Users\\User\\Github\\openCLEM\\scratch\\stitched.tif')\n",
    "plt.figure(dpi=200, figsize=(5,5))\n",
    "plt.imshow(image_1, cmap='turbo')\n",
    "plt.colorbar()\n",
    "plt.show()\n",
    "print(image_1.shape)"
   ]
  },
  {
   "cell_type": "code",
   "execution_count": null,
   "metadata": {},
   "outputs": [],
   "source": [
    "image_1_normalised = tf.imread(r'C:\\Users\\User\\Github\\openCLEM\\scratch\\stitched.tif')\n",
    "# normalise image from 0 to 1\n",
    "image_1_normalised = (image_1_normalised - np.min(image_1_normalised)) / (np.max(image_1_normalised) - np.min(image_1_normalised))\n",
    "\n",
    "plt.figure(dpi=200, figsize=(5,5))\n",
    "plt.imshow(image_1_normalised, cmap='turbo')\n",
    "plt.colorbar()\n",
    "plt.show()\n",
    "print(image_1.shape)"
   ]
  },
  {
   "cell_type": "code",
   "execution_count": null,
   "metadata": {},
   "outputs": [],
   "source": [
    "image_1_normalised_2 = tf.imread(r'C:\\Users\\User\\Github\\openCLEM\\scratch\\stitched.tif')\n",
    "# standardise image\n",
    "image_1_normalised_2 = (image_1_normalised_2 - np.mean(image_1_normalised_2)) / np.std(image_1_normalised_2)\n",
    "\n",
    "plt.figure(dpi=200, figsize=(5,5))\n",
    "plt.imshow(image_1_normalised_2, cmap='turbo')\n",
    "plt.colorbar()\n",
    "plt.show()\n",
    "print(image_1.shape)"
   ]
  },
  {
   "cell_type": "code",
   "execution_count": null,
   "metadata": {},
   "outputs": [],
   "source": [
    "pixel_size_lm = 325e-9\n",
    "pixel_size_fib = 2.604166666666667e-07"
   ]
  },
  {
   "cell_type": "code",
   "execution_count": null,
   "metadata": {},
   "outputs": [],
   "source": [
    "image = tf.imread(r\"C:\\Users\\User\\Documents\\15-06-23 - Cells\\ib_1__5.tif\").astype(np.float32)"
   ]
  },
  {
   "cell_type": "code",
   "execution_count": null,
   "metadata": {},
   "outputs": [],
   "source": [
    "realspace_lm = pixel_size_lm * image_1.shape[1]\n",
    "realspace_fib = pixel_size_fib * image.shape[1]"
   ]
  },
  {
   "cell_type": "code",
   "execution_count": null,
   "metadata": {},
   "outputs": [],
   "source": [
    "print(realspace_lm)\n",
    "print(realspace_fib)"
   ]
  },
  {
   "cell_type": "code",
   "execution_count": null,
   "metadata": {},
   "outputs": [],
   "source": [
    "n_pixels = realspace_lm/pixel_size_fib\n",
    "print(n_pixels)"
   ]
  },
  {
   "cell_type": "code",
   "execution_count": null,
   "metadata": {},
   "outputs": [],
   "source": [
    "diff_lm = n_pixels - image_1.shape[1]\n",
    "print(diff_lm)"
   ]
  },
  {
   "cell_type": "code",
   "execution_count": null,
   "metadata": {},
   "outputs": [],
   "source": [
    "\n",
    "# Compute the 2D Fourier transform\n",
    "fft = np.fft.fft2(image_1)\n",
    "# Pad the Fourier transform\n",
    "pad_rows = int(diff_lm/2)  # Double the number of rows\n",
    "pad_cols = int(diff_lm/2)  # Double the number of columns\n",
    "padded_fft = np.pad(fft, ((pad_rows, pad_rows), (pad_cols, pad_cols)), mode='constant', constant_values=0)\n",
    "\n",
    "# Perform the inverse Fourier transform\n",
    "padded_image = np.fft.ifft2(padded_fft)\n",
    "\n",
    "# Take the magnitude of the complex result\n",
    "padded_image = np.abs(padded_image)\n",
    "\n",
    "# Convert the result to uint8 for visualization\n",
    "# padded_image = np.uint8(padded_image)\n",
    "\"\"\n",
    "# Display the original image and the padded image\n",
    "plt.figure(dpi=300)\n",
    "plt.imshow(padded_image[0:image_1.shape[0], 0:image_1.shape[1]], interpolation=\"none\")\n",
    "plt.colorbar()\n",
    "plt.show()\n"
   ]
  },
  {
   "cell_type": "code",
   "execution_count": null,
   "metadata": {},
   "outputs": [],
   "source": [
    "\n",
    "# Compute the 2D Fourier transform\n",
    "fft = np.fft.fft2(image_1_normalised)\n",
    "# Pad the Fourier transform\n",
    "pad_rows = int(diff_lm/2)  # Double the number of rows\n",
    "pad_cols = int(diff_lm/2)  # Double the number of columns\n",
    "padded_fft = np.pad(fft, ((pad_rows, pad_rows), (pad_cols, pad_cols)), mode='constant', constant_values=0)\n",
    "\n",
    "# Perform the inverse Fourier transform\n",
    "padded_image = np.fft.ifft2(padded_fft)\n",
    "\n",
    "# Take the magnitude of the complex result\n",
    "padded_image = np.abs(padded_image)\n",
    "\n",
    "# Convert the result to uint8 for visualization\n",
    "# padded_image = np.uint8(padded_image)\n",
    "\"\"\n",
    "# Display the original image and the padded image\n",
    "plt.figure(dpi=300)\n",
    "plt.imshow(padded_image[0:image_1.shape[0], 0:image_1.shape[1]], interpolation=\"none\")\n",
    "plt.colorbar()"
   ]
  },
  {
   "cell_type": "code",
   "execution_count": null,
   "metadata": {},
   "outputs": [],
   "source": [
    "\n",
    "# Compute the 2D Fourier transform\n",
    "fft = np.fft.fft2(image_1_normalised_2)\n",
    "# Pad the Fourier transform\n",
    "pad_rows = int(diff_lm/2)  # Double the number of rows\n",
    "pad_cols = int(diff_lm/2)  # Double the number of columns\n",
    "padded_fft = np.pad(fft, ((pad_rows, pad_rows), (pad_cols, pad_cols)), mode='constant', constant_values=0)\n",
    "\n",
    "# Perform the inverse Fourier transform\n",
    "padded_image = np.fft.ifft2(padded_fft)\n",
    "\n",
    "# Take the magnitude of the complex result\n",
    "padded_image = np.abs(padded_image)\n",
    "\n",
    "# Convert the result to uint8 for visualization\n",
    "# padded_image = np.uint8(padded_image)\n",
    "\"\"\n",
    "# Display the original image and the padded image\n",
    "plt.figure(dpi=300)\n",
    "plt.imshow(padded_image[0:image_1.shape[0], 0:image_1.shape[1]], interpolation=\"none\")\n",
    "plt.colorbar()"
   ]
  },
  {
   "cell_type": "code",
   "execution_count": null,
   "metadata": {},
   "outputs": [],
   "source": [
    "new_realspace_lm = padded_image.shape[1] * pixel_size_lm\n",
    "new_pixel_size = realspace_lm / padded_image.shape[1]\n",
    "print(new_realspace_lm)\n",
    "print(realspace_lm)\n",
    "print(realspace_fib)\n",
    "print(new_pixel_size)"
   ]
  },
  {
   "cell_type": "code",
   "execution_count": null,
   "metadata": {},
   "outputs": [],
   "source": [
    "print(pixel_size_fib)\n",
    "print(pixel_size_lm)"
   ]
  },
  {
   "cell_type": "code",
   "execution_count": null,
   "metadata": {},
   "outputs": [],
   "source": [
    "# I want to use Scipy to interpolate an image to have more pixels\n",
    "# import package\n",
    "from scipy import interpolate\n",
    "\n",
    "# create a grid of points\n",
    "x = np.arange(0, 10)\n",
    "\n",
    "# create a random image\n",
    "image = np.random.rand(10, 10)\n",
    "\n",
    "# create interpolation function\n",
    "f = interpolate.interp2d(x, x, image, kind='cubic')\n",
    "\n",
    "# interpolate image to have 100x100 pixels\n",
    "x_new = np.arange(0, 10, 0.1)\n",
    "image_new = f(x_new, x_new)\n",
    "\n",
    "# plot the original and interpolated image\n",
    "plt.figure(dpi=300)\n",
    "plt.subplot(121)\n",
    "\n",
    "plt.imshow(image, cmap='turbo')\n",
    "\n",
    "plt.subplot(122)\n",
    "plt.imshow(image_new, cmap='turbo')\n",
    "plt.show()\n"
   ]
  },
  {
   "cell_type": "code",
   "execution_count": null,
   "metadata": {},
   "outputs": [],
   "source": [
    "# I have image_1, and want to interpolate it to have the same number of pixels as padded_image\n",
    "\n",
    "# create a grid of points\n",
    "x = np.arange(0, image_1.shape[1])\n",
    "y = np.arange(0, image_1.shape[0])\n",
    "\n",
    "# create a random image\n",
    "\n",
    "# create interpolation function\n",
    "f = interpolate.interp2d(x, y, image_1, kind='cubic')\n",
    "\n",
    "# interpolate image to have 100x100 pixels\n",
    "x_new = np.arange(0, padded_image.shape[1], 0.5)\n",
    "y_new = np.arange(0, padded_image.shape[0], 0.5)\n",
    "image_new = f(x_new, y_new)\n",
    "\n",
    "# plot the original and interpolated image\n",
    "plt.figure(dpi=500)\n",
    "plt.subplot(121)\n",
    "\n",
    "plt.imshow(image_1, cmap='turbo')\n",
    "\n",
    "plt.subplot(122)\n",
    "plt.imshow(image_new, cmap='turbo')\n",
    "plt.colorbar()\n",
    "plt.show()\n"
   ]
  },
  {
   "cell_type": "code",
   "execution_count": null,
   "metadata": {},
   "outputs": [],
   "source": []
  }
 ],
 "metadata": {
  "kernelspec": {
   "display_name": "openclem",
   "language": "python",
   "name": "python3"
  },
  "language_info": {
   "codemirror_mode": {
    "name": "ipython",
    "version": 3
   },
   "file_extension": ".py",
   "mimetype": "text/x-python",
   "name": "python",
   "nbconvert_exporter": "python",
   "pygments_lexer": "ipython3",
   "version": "3.9.16"
  },
  "orig_nbformat": 4
 },
 "nbformat": 4,
 "nbformat_minor": 2
}
